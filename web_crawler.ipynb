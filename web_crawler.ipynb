{
  "nbformat": 4,
  "nbformat_minor": 0,
  "metadata": {
    "colab": {
      "name": "web crawler",
      "provenance": [],
      "collapsed_sections": [],
      "authorship_tag": "ABX9TyPWdLqleiAw1vxJGDOe/KQa",
      "include_colab_link": true
    },
    "kernelspec": {
      "name": "python3",
      "display_name": "Python 3"
    },
    "language_info": {
      "name": "python"
    }
  },
  "cells": [
    {
      "cell_type": "markdown",
      "metadata": {
        "id": "view-in-github",
        "colab_type": "text"
      },
      "source": [
        "<a href=\"https://colab.research.google.com/github/RyanTokManMokMTM/NLP_Training2/blob/main/web_crawler.ipynb\" target=\"_parent\"><img src=\"https://colab.research.google.com/assets/colab-badge.svg\" alt=\"Open In Colab\"/></a>"
      ]
    },
    {
      "cell_type": "code",
      "metadata": {
        "id": "DHqcEImQCqpu",
        "colab": {
          "base_uri": "https://localhost:8080/",
          "height": 35
        },
        "outputId": "95df8a53-c395-4df1-9b0c-40aa45939652"
      },
      "source": [
        "#TODO\n",
        "'''\n",
        "baseURL:https://movies.yahoo.com.tw/\n",
        "playingNOW:/movie_intheaters.html\n",
        "Upcoming:movie_comingsoon.html\n",
        "ThisWeek:/movie_thisweek.html\n",
        "\n",
        "Accessing the page ?page=x\n",
        "'''"
      ],
      "execution_count": 1,
      "outputs": [
        {
          "output_type": "execute_result",
          "data": {
            "application/vnd.google.colaboratory.intrinsic+json": {
              "type": "string"
            },
            "text/plain": [
              "'\\nbaseURL:https://movies.yahoo.com.tw/\\nplayingNOW:/movie_intheaters.html\\nUpcoming:movie_comingsoon.html\\nThisWeek:/movie_thisweek.html\\n\\nAccessing the page ?page=x\\n'"
            ]
          },
          "metadata": {
            "tags": []
          },
          "execution_count": 1
        }
      ]
    },
    {
      "cell_type": "code",
      "metadata": {
        "colab": {
          "base_uri": "https://localhost:8080/"
        },
        "id": "sdSwqobnIoR3",
        "outputId": "a23deda9-a90b-49d6-a27a-f6d61d1ac3cf"
      },
      "source": [
        "!pip install pandas #install pandas"
      ],
      "execution_count": 2,
      "outputs": [
        {
          "output_type": "stream",
          "text": [
            "Requirement already satisfied: pandas in /usr/local/lib/python3.7/dist-packages (1.1.5)\n",
            "Requirement already satisfied: numpy>=1.15.4 in /usr/local/lib/python3.7/dist-packages (from pandas) (1.19.5)\n",
            "Requirement already satisfied: python-dateutil>=2.7.3 in /usr/local/lib/python3.7/dist-packages (from pandas) (2.8.1)\n",
            "Requirement already satisfied: pytz>=2017.2 in /usr/local/lib/python3.7/dist-packages (from pandas) (2018.9)\n",
            "Requirement already satisfied: six>=1.5 in /usr/local/lib/python3.7/dist-packages (from python-dateutil>=2.7.3->pandas) (1.15.0)\n"
          ],
          "name": "stdout"
        }
      ]
    },
    {
      "cell_type": "code",
      "metadata": {
        "id": "cfG1qhYdNcU-",
        "colab": {
          "base_uri": "https://localhost:8080/",
          "height": 52
        },
        "outputId": "b93c89f3-faf6-41e2-fbc0-59291a3b6120"
      },
      "source": [
        "'''\n",
        "Find The rule of first Movie\n",
        "ForCurrentPage: \n",
        "All movie is inside  class = \"release_list\"\n",
        "Get The URL of the introl button: class=\"release_btn color_btnbox\" first a tag[href']\n",
        "\n",
        "\n",
        "1.ForEach movies, need to get its detail page URL\n",
        "2....\n",
        "'''"
      ],
      "execution_count": 3,
      "outputs": [
        {
          "output_type": "execute_result",
          "data": {
            "application/vnd.google.colaboratory.intrinsic+json": {
              "type": "string"
            },
            "text/plain": [
              "'\\nFind The rule of first Movie\\nForCurrentPage: \\nAll movie is inside  class = \"release_list\"\\nGet The URL of the introl button: class=\"release_btn color_btnbox\" first a tag[href\\']\\n\\n\\n1.ForEach movies, need to get its detail page URL\\n2....\\n'"
            ]
          },
          "metadata": {
            "tags": []
          },
          "execution_count": 3
        }
      ]
    },
    {
      "cell_type": "code",
      "metadata": {
        "colab": {
          "base_uri": "https://localhost:8080/"
        },
        "id": "6-dQFfl4HKh3",
        "outputId": "3bf5ad6a-0907-4ad2-f317-cc3f1bab7d11"
      },
      "source": [
        "import requests\n",
        "from bs4 import BeautifulSoup\n",
        "HEADER = {\n",
        "       'User-Agent': 'Mozilla/5.0 (Macintosh; Intel Mac OS X 10_13_6) AppleWebKit/537.36 (KHTML, like Gecko) Chrome/71.0.3578.98 Safari/537.36'\n",
        "}\n",
        "\n",
        "\n",
        "type_list = {\n",
        "    \"playing\":\"/movie_intheaters.html\",\n",
        "    \"upcoming\":\"/movie_comingsoon.html\",\n",
        "    \"thisweek\":\"/movie_thisweek.html\"\n",
        "}\n",
        "\n",
        "baseURL = \"https://movies.yahoo.com.tw\"+ type_list[\"playing\"]\n",
        "\n",
        "#now sending the request\n",
        "movieReq = requests.get(baseURL,headers=HEADER)\n",
        "currentPage = BeautifulSoup(movieReq.text)\n",
        "\n",
        "#get all movie data from `\n",
        "movieList = currentPage.find(\"div\",class_=\"release_box\").find(\"ul\",class_=\"release_list\").find(\"a\",class_=\"btn_s_introduction\")['href']\n",
        "print(movieList)\n",
        "\n",
        "#now we need to get all data for the movie\n",
        "#now we get the name and its link for tesing\n",
        "movieData = currentPage.findAll(\"div\",class_=\"release_info\")\n",
        "for item in movieData:\n",
        "    #get movie name\n",
        "    print(item.find(\"div\",class_=\"release_movie_name\").find(\"a\",class_=\"gabtn\").text.strip())\n",
        "\n",
        "    #get movie detail URL\n",
        "    print(item.find(\"div\",class_=\"release_btn color_btnbox\").find(\"a\",class_=\"btn_s_introduction\")[\"href\"])\n"
      ],
      "execution_count": 4,
      "outputs": [
        {
          "output_type": "stream",
          "text": [
            "https://movies.yahoo.com.tw/movieinfo_main/%E8%B7%AF%E5%8D%A1%E7%9A%84%E5%A4%8F%E5%A4%A9-luca-11268\n",
            "路卡的夏天\n",
            "https://movies.yahoo.com.tw/movieinfo_main/%E8%B7%AF%E5%8D%A1%E7%9A%84%E5%A4%8F%E5%A4%A9-luca-11268\n",
            "薄荷糖\n",
            "https://movies.yahoo.com.tw/movieinfo_main/%E8%96%84%E8%8D%B7%E7%B3%96-peppermint-candy-11368\n",
            "人聲\n",
            "https://movies.yahoo.com.tw/movieinfo_main/%E4%BA%BA%E8%81%B2-the-human-voice-11400\n",
            "雙面薇若妮卡 經典數位修復\n",
            "https://movies.yahoo.com.tw/movieinfo_main/%E9%9B%99%E9%9D%A2%E8%96%87%E8%8B%A5%E5%A6%AE%E5%8D%A1-%E7%B6%93%E5%85%B8%E6%95%B8%E4%BD%8D%E4%BF%AE%E5%BE%A9-the-double-life-of-veronique-11425\n",
            "合法伴侶\n",
            "https://movies.yahoo.com.tw/movieinfo_main/%E5%90%88%E6%B3%95%E4%BC%B4%E4%BE%B6-special-couple-11441\n",
            "甲子園：夢想競技場\n",
            "https://movies.yahoo.com.tw/movieinfo_main/%E7%94%B2%E5%AD%90%E5%9C%92-%E5%A4%A2%E6%83%B3%E7%AB%B6%E6%8A%80%E5%A0%B4-koshien-japans-field-of-dreams-11449\n",
            "青春：第50屆日本全國高中棒球錦標賽\n",
            "https://movies.yahoo.com.tw/movieinfo_main/%E9%9D%92%E6%98%A5-%E7%AC%AC50%E5%B1%86%E6%97%A5%E6%9C%AC%E5%85%A8%E5%9C%8B%E9%AB%98%E4%B8%AD%E6%A3%92%E7%90%83%E9%8C%A6%E6%A8%99%E8%B3%BD-youth-the-50th-national-high-school-baseball-tournament-11450\n",
            "自殺突擊隊：集結\n",
            "https://movies.yahoo.com.tw/movieinfo_main/%E8%87%AA%E6%AE%BA%E7%AA%81%E6%93%8A%E9%9A%8A-%E9%9B%86%E7%B5%90-the-suicide-squad-11328\n",
            "驅魔禁區\n",
            "https://movies.yahoo.com.tw/movieinfo_main/%E9%A9%85%E9%AD%94%E7%A6%81%E5%8D%80-demonic-11439\n",
            "叢林奇航\n",
            "https://movies.yahoo.com.tw/movieinfo_main/%E5%8F%A2%E6%9E%97%E5%A5%87%E8%88%AA-jungle-cruise-10315\n"
          ],
          "name": "stdout"
        }
      ]
    },
    {
      "cell_type": "code",
      "metadata": {
        "colab": {
          "base_uri": "https://localhost:8080/",
          "height": 52
        },
        "id": "u92MfGaSYQSk",
        "outputId": "25708663-a964-46d8-b6be-1d04aa64e112"
      },
      "source": [
        "'''\n",
        "Find the rule of detail movie page\n",
        "Data is needed: movieName, Genra(order is required) and Introl\n",
        "Basic : class = movie_intro_info_r\n",
        "Genre : level_name->a->text\n",
        "Introl: class = gray_infobox_inner -> story -> story ->p\n",
        "'''"
      ],
      "execution_count": 5,
      "outputs": [
        {
          "output_type": "execute_result",
          "data": {
            "application/vnd.google.colaboratory.intrinsic+json": {
              "type": "string"
            },
            "text/plain": [
              "'\\nFind the rule of detail movie page\\nData is needed: movieName, Genra(order is required) and Introl\\nBasic : class = movie_intro_info_r\\nGenre : level_name->a->text\\nIntrol: class = gray_infobox_inner -> story -> story ->p\\n'"
            ]
          },
          "metadata": {
            "tags": []
          },
          "execution_count": 5
        }
      ]
    },
    {
      "cell_type": "code",
      "metadata": {
        "colab": {
          "base_uri": "https://localhost:8080/"
        },
        "id": "jHBiEcdCPPpl",
        "outputId": "98f7a80c-cec3-495f-ba98-9dd8b22dd721"
      },
      "source": [
        "#for now just getting the page data\n",
        "#Ignore other related movie for now\n",
        "#later fix existing movie\n",
        "\n",
        "# for page in range(1,8):\n",
        "#   webURL = baseURL + \"?page=%s\"%page\n",
        "#   #send to request to \n",
        "\n",
        "#now we need to get the info we want\n",
        "tempURL = \"https://movies.yahoo.com.tw/movieinfo_main/%E5%8F%A2%E6%9E%97%E5%A5%87%E8%88%AA-jungle-cruise-10315\"\n",
        "reqDetail = requests.get(tempURL,headers=HEADER)\n",
        "detailSoup = BeautifulSoup(reqDetail.text)\n",
        "# print(detailSoup)\n",
        "\n",
        "#getting the basic \n",
        "# detailSoup.find(\"div\",class_=\"movie_intro_info_r\")\n",
        "info = detailSoup.find(\"div\",class_=\"movie_intro_info_r\")\n",
        "print(\"MovieName\",info.find(\"h1\").text.strip())\n",
        "genreList = info.findAll(\"div\",class_=\"level_name\")\n",
        "\n",
        "#getting movie genre\n",
        "for genre in genreList:\n",
        "  print(genre.find(\"a\",class_=\"gabtn\").text.strip())\n",
        "\n",
        "#getting movie intro\n",
        "intro = detailSoup.find(\"div\",class_=\"gray_infobox_inner\")\n",
        "introData = intro.find(\"span\",id=\"story\").text.strip()\n",
        "print(introData)\n"
      ],
      "execution_count": 6,
      "outputs": [
        {
          "output_type": "stream",
          "text": [
            "MovieName 叢林奇航\n",
            "動作\n",
            "冒險\n",
            "奇幻\n",
            "故事描述一位名叫霍頓博士（艾蜜莉布朗 飾演）發現了深藏在亞馬遜裡，有著一顆擁有治癒神力的奇幻之樹，而要取得這棵樹的神力，必須帶著一個被人類收藏的「神奇箭頭」來解開它，霍頓博士決定要深入叢林，來一探這個傳說的究竟，她找來了一個看似可靠，但其實是個只想詐騙遊客的狡猾渡輪船長—法蘭克船長（巨石強森 飾演），她雇用法蘭克載著自己與弟弟（傑克懷特霍爾 飾演）前往叢林展開這場解開神秘傳說之謎的旅程。\r\n",
            " \r\n",
            "迪士尼樂園最受歡迎的人氣遊樂設施「叢林奇航」首度改編成電影，將在2020年暑假搬上大銀幕了！這趟神秘的叢林之旅，要帶著大家進入一趟最驚險刺激的旅程，過程中將會遇上許多危險恐怖的生物，以及奇異的超自然現象，新作融合《國家寶藏》般的驚險探險劇情，加上《神鬼奇航》般的冒險旅程！\n"
          ],
          "name": "stdout"
        }
      ]
    },
    {
      "cell_type": "code",
      "metadata": {
        "colab": {
          "base_uri": "https://localhost:8080/"
        },
        "id": "Nfcl_70bYp87",
        "outputId": "425f2129-461a-49ce-d9ea-e85d912a3088"
      },
      "source": [
        "#now ,tring to get all data from page 1\n",
        "for page in range(1,2):\n",
        "  webURL = baseURL + \"?page=%s\"%page\n",
        "  #now sending the request\n",
        "  movieReq = requests.get(webURL,headers=HEADER)\n",
        "  currentPage = BeautifulSoup(movieReq.text)\n",
        "\n",
        "  #get all movie data from `\n",
        "  movieList = currentPage.find(\"div\",class_=\"release_box\").find(\"ul\",class_=\"release_list\").find(\"a\",class_=\"btn_s_introduction\")['href']\n",
        "  #now we need to get all data for the movie\n",
        "  #now we get the name and its link for tesing\n",
        "  movieData = currentPage.findAll(\"div\",class_=\"release_info\")\n",
        "  for item in movieData:\n",
        "      # get movie name\n",
        "      # print(item.find(\"div\",class_=\"release_movie_name\").find(\"a\",class_=\"gabtn\").text.strip())\n",
        "\n",
        "      #get movie detail URL,all detail \n",
        "      # print(item.find(\"div\",class_=\"release_btn color_btnbox\").find(\"a\",class_=\"btn_s_introduction\")[\"href\"])\n",
        "      detailURL = item.find(\"div\",class_=\"release_btn color_btnbox\").find(\"a\",class_=\"btn_s_introduction\")[\"href\"]\n",
        "      #for each detail link we need to get all info we need\n",
        "      reqDetail = requests.get(detailURL,headers=HEADER)\n",
        "      detailSoup = BeautifulSoup(reqDetail.text)\n",
        "      # print(detailSoup)\n",
        "\n",
        "      #getting the basic \n",
        "      # detailSoup.find(\"div\",class_=\"movie_intro_info_r\")\n",
        "      info = detailSoup.find(\"div\",class_=\"movie_intro_info_r\")\n",
        "      print(\"Name\",info.find(\"h1\").text.strip())\n",
        "      genreList = info.findAll(\"div\",class_=\"level_name\")\n",
        "\n",
        "\n",
        "      #getting movie genre\n",
        "      print(\"Genre:\")\n",
        "      for genre in genreList:\n",
        "        print(genre.find(\"a\",class_=\"gabtn\").text.strip())\n",
        "\n",
        "      #getting movie intro\n",
        "      intro = detailSoup.find(\"div\",class_=\"gray_infobox_inner\")\n",
        "      introData = intro.find(\"span\",id=\"story\").text.strip()\n",
        "      print(\"introl\",introData)\n",
        "      print(\"-------------------------------------------------------------=====================================================================================------\\n\")\n"
      ],
      "execution_count": 7,
      "outputs": [
        {
          "output_type": "stream",
          "text": [
            "Name 路卡的夏天\n",
            "Genre:\n",
            "動畫\n",
            "冒險\n",
            "introl 皮克斯全新原創《路卡的夏天》，故事背景發生在美麗的義大利濱海小鎮里維埃拉，一位名叫路卡的海怪男孩的難忘夏天，他與新摯友們在夏天經歷的無數冒險，包含他們在島上參加的競賽，但最刺激的不是競賽本身，而是隱藏他們呼之欲出的海怪身份…\r\n",
            " \r\n",
            "《路卡的夏天》是一個成長的故事，海怪男孩是曾經的你我，好奇心驅使你走出舒適圈，遇見真誠的友誼，學習鼓起勇氣由衷生活，完成自以為不可能的夢想…\n",
            "-------------------------------------------------------------=====================================================================================------\n",
            "\n",
            "Name 薄荷糖\n",
            "Genre:\n",
            "劇情\n",
            "introl ★韓國重量級名導李滄東「綠色三部曲」之一！ \n",
            "★勇奪「南韓奧斯卡」大鐘獎最佳影片、導演、劇本、女配角、新人等五項大獎！ \n",
            "★韓國影帝薛耿求勇奪韓國青龍、大鐘兩大獎經典之作！ \n",
            "★英國《衛報》評為「20大韓國經典電影」！ \n",
            "★榮膺第4屆釜山影展開幕影片！ \n",
            "★第53屆法國坎城影展「導演雙週」入選影片！\n",
            " \n",
            "如果人生可以倒退　一切都能重新來過嗎？\n",
            " \n",
            "在千禧年前夕，金英浩(薛耿求飾)依約到了年少時同伴們的河邊聚會，他們曾在這裡各自訴說夢想，也是金英浩與暗戀已久的初戀情人尹順林(文素利飾)擁有最美好回憶的地方。但景物依舊，金英浩卻完全變了一個人，他在過往朋友們眾目睽睽下，站到了鐵軌上尋短，痛苦大喊：「我想回到過去！」。\n",
            " \n",
            "故事以他的死亡開始倒敘展開，五年前、十多年前、二十年前…曾經意氣風發的少年歷經風霜，命運的峰迴路轉讓他成了自己不想成為的人。\n",
            "-------------------------------------------------------------=====================================================================================------\n",
            "\n",
            "Name 人聲\n",
            "Genre:\n",
            "劇情\n",
            "introl 一個焦慮的女人等著要跟她分手的男人可以出現，取回他的行李，心裡有著一絲絲盼望，也許可以有轉圜的餘地。但是三天的枯等讓她心灰意冷，甚至將男人的衣物放在床上用買來的斧頭砍破洩恨。男人養的狗跟女人一樣焦慮，牠對他的依戀不亞於女人！但是他們都等不到回心轉意的男人\n",
            " \n",
            "在萬念俱灰的情緒下，她吞下了13顆藥丸，然後沉沉睡去，就在這個時候男人來了電話…\n",
            " \n",
            "【關於電影】\n",
            " \n",
            "時間流逝與情感拖磨 阿莫多瓦大師賦予《人聲》最高演繹境界\n",
            "阿莫多瓦X蒂妲絲雲頓兩大時尚先驅  營造本世紀最夢幻視覺饗宴\n",
            " \n",
            "《人聲》故事敘述一個女星看著時間一分一秒的過去，但是她的情人即將離他而去，她看著情人應該要來拿走的行李箱，卻一直杵在那邊，令她焦慮不已，她身邊還有一隻煩躁靜不下來的狗。電影一開始她全身穿著靛藍的套裝走進五金大賣場，挑選了一把鋒利的斧頭，放進她名牌包包中。這樣的場面果然非常的阿莫多瓦！\n",
            " \n",
            "每一次的作品總是給人驚喜連連的阿莫多瓦，在全世界都擁有許多影癡，在新冠疫情期間阿莫多瓦也沒有停下腳步，全新作品短片《人聲》是他再一次突破自己極限的作品。這次阿莫多瓦找上從未合作過的女星蒂妲絲雲頓擔綱女主角，同時這也是他首部英語發音電影。素有「時尚仙人」美譽的蒂妲絲雲頓，與用色大膽前衛的阿莫多瓦一起合作，根本就是一場夢幻的時尚視覺饗宴！\n",
            " \n",
            "導演第三度改編尚考克多劇本《人聲》 蒂妲氣場強大獨撐30分鐘\n",
            " \n",
            "《人聲》不僅是阿莫多瓦第一部英語發音的電影，同時也是他第三度改編法國神級劇作家尚考克多的劇本，前兩部也都成為經典之作：《慾望法則》與《瀕臨崩潰邊緣的女人》。《人聲》也讓阿莫多瓦琢磨許久，他說：「因為劇本真的很短，所以我一直在跟主角演戲，想要創造出女主角接到男人電話前兩天的心境和情緒。所以這部電影跟《瀕臨崩潰邊緣的女人》很不一樣，尚考克多的劇本在這三年裡一直在我腦中盤旋，我希望能夠寫出一個更現代化的腳本。」\n",
            " \n",
            "阿莫多瓦一直以來就想要跟蒂妲絲雲頓一起拍片，他說：「這是我夢寐以求的事情，《人聲》這部電影充滿了各種實驗性質，我雖然英文不是太好，但是我跟蒂妲就是能彼此了解，用我們的電影語言。」蒂妲絲雲頓從頭到尾展現出一個為情所困、焦慮、挫折、憤怒，終至絕望，她演出了阿莫多瓦希望能夠擁有自己掌控權的女人，完全淋漓表現了劇中角色那種高貴、冷調卻又充滿炙熱情感的角色。\n",
            "-------------------------------------------------------------=====================================================================================------\n",
            "\n",
            "Name 雙面薇若妮卡 經典數位修復\n",
            "Genre:\n",
            "劇情\n",
            "introl ★ 1991坎城影展最佳女主角、國際影評人費比西獎、人道主義精神獎\n",
            "★ 1992 金球獎最佳外語片提名\n",
            "★ 1992 法國凱薩獎最佳女主角提名\n",
            "★ 1992 美國國家影評人協會最佳外語片\n",
            " \n",
            "經典大師 奇士勞斯基 逝世二十週年 數位修復‧經典重現大銀幕\n",
            "波蘭與法國，兩個同名薇若妮卡的女子互不相識，卻都擁有音樂天賦，年齡相仿、長相相似，甚至都有致命的心臟宿疾。神秘難解的命運將她們彼此緊密維繫，彷彿同樣的靈魂一生為二，互相交換死生蛻變。她們不僅是幾乎一模一樣的人，還是冥冥中能夠互相感應的人。波蘭的薇若妮卡曾對自己的父親說：「我有種奇特的感覺，我在這世上並不是孤單一人的。」；法國的薇若妮卡也說著類似的話：「我覺得自己好像同時活在兩個地方，總該知道自己該做什麼。」所有的一切似乎都暗示著，這兩條生命彼此平行依存，卻未曾真正相遇。 \n",
            " \n",
            "《雙面薇若妮卡》是奇士勞斯基最令人著迷、大開國際知名度的經典作品，透過繁複細緻的光影多重隱喻國族、生命、認同、愛與人性，引人反覆追索。伊蓮雅各以此片奪得坎城影后，分飾兩角的演技令人心碎動容。2021年為奇士勞斯八十週年冥誕，也是本片問世30周年。而影史經典《雙面薇若妮卡》也將以《雙面薇若妮卡 經典數位修復》再度登上大銀幕，讓影迷重溫當時的悸動。\n",
            "-------------------------------------------------------------=====================================================================================------\n",
            "\n",
            "Name 合法伴侶\n",
            "Genre:\n",
            "愛情\n",
            "introl ★英國倫敦的異國追愛故事！無論是男女戀，還是男男戀？結婚才是合法，敢登記才是真愛\n",
            "★台北電影節影后張榕容與香港帥哥李治廷合作愛情喜劇，誤會中遇到真愛？倫敦結合古典與現代的美景全都錄，浪漫滿分\n",
            " \n",
            "在倫敦追求夢想的音樂才子古大白（李治廷 飾），因為一場意外陷入簽證危機，將被遣送回國。情急之下，已拿到綠卡的好友金天（白客 飾）靈機一動，出手相助，竟是將兩人從真兄弟變身成了假伴侶，兩人更惡補情侶CP感，企圖在簽證官華生（魯伯特格雷夫斯 飾）面前蒙混過關。\n",
            " \n",
            "但事情並沒有想像中順利：新搬來的鄰居赫敏（張榕容 飾）性格搞怪又可愛，讓古大白非常心動，但為了簽證狀況，只能和她當閨蜜，再加上火眼金睛的簽證官窮追不捨、更有大白父母突然來探訪，各種突發狀況讓小謊言滾成了大雪球，在簽證與真相之間，兄弟倆手忙腳亂，又將如何選擇呢？\n",
            "-------------------------------------------------------------=====================================================================================------\n",
            "\n",
            "Name 甲子園：夢想競技場\n",
            "Genre:\n",
            "紀錄片\n",
            "introl 汗水淚水噴發的青春，甲子園熱度節節高升！\n",
            " \n",
            "2018年，適逢夏季甲子園100週年。日本全國近4,000參賽隊伍，即將透過單敗淘汰制，選出56校角逐高中棒球最高榮譽。水谷哲也，橫濱隼人高中棒球總教練，目標全國制霸，始終將球隊擺在家庭之上。他從未見過15歲的兒子打球，也不願訓練他。水谷將兒子送到遠方的花卷東高中，在他的弟子佐佐木洋隊中磨練。佐佐木可謂青出於藍，大聯盟球星大谷翔平、菊池雄星都是他訓練出的高徒。大賽在即，同為甲子園常客的兩校隊伍，將會由哪隊創造奇蹟？\n",
            " \n",
            "「98%的高中球員在這裡被打敗，然後變得更強。」高懸於阪神電車甲子園站的標語，清楚揭示一切。甲子園作為文化縮影，不只是熾烈青春的明證，更是塑造日本未來最堅實的夢想聖地！\n",
            "-------------------------------------------------------------=====================================================================================------\n",
            "\n",
            "Name 青春：第50屆日本全國高中棒球錦標賽\n",
            "Genre:\n",
            "紀錄片\n",
            "introl 一代名導市川崑最膾炙人口的傳奇傑作\n",
            " \n",
            "1968年盛夏，第50屆日本全國高中棒球錦標賽「夏季甲子園」正式開戰！60,000名觀眾擠爆看台觀戰，歡呼聲響徹雲霄。從2,485所學校脫穎而出48校菁英隊伍，準備爭奪獨一無二的至高榮耀。劇組縱橫經緯走遍列島，從寒冬到酷暑，追蹤野球少年的逐夢身影。片中更穿插珍貴歷史畫面，細數甲子園變遷史。走過二戰，巍巍場館除了曾因軍需拆用，甚至有明星球員遠赴沙場不再歸來。汗淚齊飆的甲子園，不僅是青春競技場，更見證永不言棄的大和精神。\n",
            " \n",
            "為了落實一代名導市川崑的野望，全片出動20多台攝影機、動員120名工作人員，讓鏡頭伏地上天，穿梭各個角落，精彩捕捉賽事精華與綻放的各色青春！\n",
            "-------------------------------------------------------------=====================================================================================------\n",
            "\n",
            "Name 自殺突擊隊：集結\n",
            "Genre:\n",
            "動作\n",
            "冒險\n",
            "introl 歡迎來到地獄—全美死亡率最高的「美夢監獄」。那裡關押著最兇惡的超級反派，他們為了逃離該處願意付出任何代價，甚至不惜加入超級神祕又黑幕重重的X特遣隊。這次九死一生的任務是什麼呢？首先結集「血腥運動」、「和平使者」、「迴旋鏢隊長」、「捕鼠人2」、「智者」、「鯊魚王」、「黑色守衛」、「標槍」，以及大家最喜歡的精神病患「哈莉奎茵」等一幫罪犯，給他們配上最精良的重裝武器，再把他們扔…請注意真的是用扔的，到與世隔絕又布滿敵軍的柯多瑪堤小島。他們徒步穿越每個角落都藏滿敵對兵力和武裝傭兵的叢林，突擊隊員在瑞克佛萊格上校一人隨行並帶領管束下，執行著搜索及摧毀的任務…\n",
            " \n",
            "阿曼達華勒的政府技工則從耳機裡提點監控，全程緊迫盯人。與往常一樣，他們只要踏錯一步就會屍骨無存（無論是死於敵方的手下、自己隊友的暗算，或是華勒的親自下令）。若真要下注賭個輸贏，明智的選擇絕對是押他們落敗，全軍覆沒。\n",
            "-------------------------------------------------------------=====================================================================================------\n",
            "\n",
            "Name 驅魔禁區\n",
            "Genre:\n",
            "科幻\n",
            "恐怖\n",
            "懸疑/驚悚\n",
            "introl ★ 《第九禁區》《極樂世界》導演全新超自然科幻懼作\n",
            "★ 科幻視效結合驅魔題材，宛如《全面啟動》結合《厲陰宅》！\n",
            "★ 有些惡行，是惡魔逼人做的……\n",
            " \n",
            "一名年輕女子意外喚醒滿懷惡意的駭人惡靈。現在，這股超自然力量將殘酷地揭露一對母女之間數十年感情裂痕的恐怖根源……。\n",
            "-------------------------------------------------------------=====================================================================================------\n",
            "\n",
            "Name 叢林奇航\n",
            "Genre:\n",
            "動作\n",
            "冒險\n",
            "奇幻\n",
            "introl 故事描述一位名叫霍頓博士（艾蜜莉布朗 飾演）發現了深藏在亞馬遜裡，有著一顆擁有治癒神力的奇幻之樹，而要取得這棵樹的神力，必須帶著一個被人類收藏的「神奇箭頭」來解開它，霍頓博士決定要深入叢林，來一探這個傳說的究竟，她找來了一個看似可靠，但其實是個只想詐騙遊客的狡猾渡輪船長—法蘭克船長（巨石強森 飾演），她雇用法蘭克載著自己與弟弟（傑克懷特霍爾 飾演）前往叢林展開這場解開神秘傳說之謎的旅程。\n",
            " \n",
            "迪士尼樂園最受歡迎的人氣遊樂設施「叢林奇航」首度改編成電影，將在2020年暑假搬上大銀幕了！這趟神秘的叢林之旅，要帶著大家進入一趟最驚險刺激的旅程，過程中將會遇上許多危險恐怖的生物，以及奇異的超自然現象，新作融合《國家寶藏》般的驚險探險劇情，加上《神鬼奇航》般的冒險旅程！\n",
            "-------------------------------------------------------------=====================================================================================------\n",
            "\n"
          ],
          "name": "stdout"
        }
      ]
    },
    {
      "cell_type": "code",
      "metadata": {
        "id": "vVpsZn45h0-t"
      },
      "source": [
        "#now lets try to get movie recursively\n",
        "#According to actor\n",
        "\n",
        "#if current URL is storted info ,we store currentURL in a dict also actor too\n",
        "#let try now"
      ],
      "execution_count": 8,
      "outputs": []
    },
    {
      "cell_type": "code",
      "metadata": {
        "colab": {
          "base_uri": "https://localhost:8080/"
        },
        "id": "F77quDDlyhNl",
        "outputId": "a3a1fc2a-830c-477d-a324-9c56ccc462ac"
      },
      "source": [
        "#get detail info with \n",
        "detailURL = \"https://movies.yahoo.com.tw/movieinfo_main/%E9%BB%91%E5%AF%A1%E5%A9%A6-black-widow-10397\"\n",
        "reqDetail = requests.get(detailURL,headers=HEADER)\n",
        "detailSoup = BeautifulSoup(reqDetail.text)\n",
        "# print(detailSoup)\n",
        "detailSoup = detailSoup.find(\"div\",id=\"content_l\")\n",
        "#getting the basic \n",
        "# detailSoup.find(\"div\",class_=\"movie_intro_info_r\")\n",
        "info = detailSoup.find(\"div\",class_=\"movie_intro_info_r\")\n",
        "print(\"Name\",info.find(\"h1\").text.strip())\n",
        "genreList = info.findAll(\"div\",class_=\"level_name\")\n",
        "\n",
        "#getting movie genre\n",
        "print(\"Genre:\")\n",
        "for genre in genreList:\n",
        "  print(genre.find(\"a\",class_=\"gabtn\").text.strip())\n",
        "\n",
        "#getting movie intro\n",
        "intro = detailSoup.find(\"div\",class_=\"gray_infobox_inner\")\n",
        "introData = intro.find(\"span\",id=\"story\").text.strip()\n",
        "print(\"introl\",introData)\n",
        "\n",
        "\n",
        "#trailer_list alist starlist is for actor etc\n",
        "#if current Movie has actor and find it else not to do this\n",
        "if(detailSoup.findAll(\"div\",class_=\"l_box have_arbox _c\")[0].find(\"ul\",\"trailer_list alist starlist\") != None):\n",
        "    actorList = detailSoup.findAll(\"div\",class_=\"l_box have_arbox _c\")[0].find(\"ul\",\"trailer_list alist starlist\").findAll(\"li\")\n",
        "    for actor in actorList:\n",
        "      currentActor = actor.find(\"a\",class_=\"gabtn\").find(\"div\",class_=\"actor_inner\").find(\"h2\").text.strip()\n",
        "      currentActorLink =   actor.find(\"a\",class_=\"gabtn\")[\"href\"]\n",
        "      #here we got a string of actor name,chinese and english\n",
        "      #now array index 0 is chinese and 1 is english\n",
        "      currentActor = currentActor.replace(\" \",\"\").split(\"\\n\")\n",
        "      del currentActor[1]\n",
        "      actorLists.append(currentActorLink)\n",
        "      #now need to get more movie from\n",
        "print(actorLists)"
      ],
      "execution_count": 9,
      "outputs": [
        {
          "output_type": "stream",
          "text": [
            "Name 黑寡婦\n",
            "Genre:\n",
            "動作\n",
            "冒險\n",
            "introl 漫威影業2020年的首部重頭戲，是粉絲請求多時，終於實現的《黑寡婦》個人電影，黑寡婦在漫威電影宇宙中舉足輕重，10多年來參與了7部電影。現在，娜塔莎羅曼諾夫，也就是大家所熟知的黑寡婦，終於踏上個人的旅程，讓粉絲看到她不為人知的一面。\r\n",
            " \r\n",
            "故事時間點設定在《美國隊長 3 : 英雄內戰》之後，娜塔莎因為幫助了美國隊長而踏上流亡之路，當她發現一個與過去有關的陰謀時，她必須全球追蹤，回頭面對她神祕的間諜生涯，同時逃過反派「模仿大師」的追殺。\n",
            "['https://movies.yahoo.com.tw/name_main/%E5%87%B1%E7%89%B9%E8%95%AD%E8%98%AD-cate-shortland-41257', 'https://movies.yahoo.com.tw/name_main/%E5%8F%B2%E5%98%89%E8%95%BE%E5%96%AC%E9%9F%93%E6%A3%AE-scarlett-johansson-1349', 'https://movies.yahoo.com.tw/name_main/%E4%BD%9B%E8%98%BF%E5%80%AB%E7%B5%B2%E6%99%AE%E4%BC%8A-florence-pugh-45121', 'https://movies.yahoo.com.tw/name_main/%E5%B0%8F%E5%8B%9E%E5%8B%83%E9%81%93%E5%B0%BC-robert-downey-jr-1075', 'https://movies.yahoo.com.tw/name_main/%E7%91%9E%E7%A7%8B%E6%87%B7%E8%8C%B2-rachel-weisz-2295']\n"
          ],
          "name": "stdout"
        }
      ]
    },
    {
      "cell_type": "code",
      "metadata": {
        "colab": {
          "base_uri": "https://localhost:8080/"
        },
        "id": "Ixsz7z_k4NVf",
        "outputId": "af2cc456-ee84-443e-80b7-11730346d5c2"
      },
      "source": [
        "#now working on actor page\n",
        "#get all this movie that actor had\n",
        "\n",
        "'''\n",
        "RULE:\n",
        "trailer_list _slickfive\n",
        "'''\n",
        "\n",
        "actorReq = \"https://movies.yahoo.com.tw/name_main/%E5%8F%B2%E5%98%89%E8%95%BE%E5%96%AC%E9%9F%93%E6%A3%AE-scarlett-johansson-1349\"\n",
        "actorR = requests.get(actorReq,headers=HEADER)\n",
        "a = BeautifulSoup(actorR.text)\n",
        "\n",
        "for movie in a.find(\"ul\",class_=\"trailer_list _slickfive\").findAll(\"li\"):\n",
        "  print(movie.find(\"div\",class_=\"_slickcontent\").find(\"a\",class_=\"gabtn\")['href'])"
      ],
      "execution_count": 10,
      "outputs": [
        {
          "output_type": "stream",
          "text": [
            "https://movies.yahoo.com.tw/movieinfo_main/%E6%AD%A1%E6%A8%82%E5%A5%BD%E8%81%B2%E9%9F%B32-sing-2-11413\n",
            "https://movies.yahoo.com.tw/movieinfo_main/%E9%BB%91%E5%AF%A1%E5%A9%A6-black-widow-10397\n",
            "https://movies.yahoo.com.tw/movieinfo_main/%E5%85%94%E5%98%B2%E7%94%B7%E5%AD%A9-jojo-rabbit-10283\n",
            "https://movies.yahoo.com.tw/movieinfo_main/%E5%BE%A9%E4%BB%87%E8%80%85%E8%81%AF%E7%9B%9F-%E7%B5%82%E5%B1%80%E4%B9%8B%E6%88%B0-avengers-endgame-9728\n",
            "https://movies.yahoo.com.tw/movieinfo_main/%E7%8A%AC%E4%B9%8B%E5%B3%B6-isle-of-dogs-7402\n",
            "https://movies.yahoo.com.tw/movieinfo_main/%E5%BE%A9%E4%BB%87%E8%80%85%E8%81%AF%E7%9B%9F-%E7%84%A1%E9%99%90%E4%B9%8B%E6%88%B0-avengers-infinity-war-7866\n",
            "https://movies.yahoo.com.tw/movieinfo_main/%E5%A5%B3%E7%8B%BC%E5%97%A8%E5%88%B0%E8%B6%B4-rough-night-6972\n",
            "https://movies.yahoo.com.tw/movieinfo_main/%E6%94%BB%E6%AE%BC%E6%A9%9F%E5%8B%95%E9%9A%8A-ghost-in-the-shell-6608\n",
            "https://movies.yahoo.com.tw/movieinfo_main/%E6%AD%A1%E6%A8%82%E5%A5%BD%E8%81%B2%E9%9F%B3-sing-6164\n",
            "https://movies.yahoo.com.tw/movieinfo_main/%E7%BE%8E%E5%9C%8B%E9%9A%8A%E9%95%B73-%E8%8B%B1%E9%9B%84%E5%85%A7%E6%88%B0-captain-america-civil-war-6064\n",
            "https://movies.yahoo.com.tw/movieinfo_main/%E8%88%87%E6%A3%AE%E6%9E%97%E5%85%B1%E8%88%9E-the-jungle-book-6126\n",
            "https://movies.yahoo.com.tw/movieinfo_main/%E5%BE%A9%E4%BB%87%E8%80%85%E8%81%AF%E7%9B%9F2-%E5%A5%A7%E5%89%B5%E7%B4%80%E5%85%83-the-avengers-age-of-ultron-5499\n",
            "https://movies.yahoo.com.tw/movieinfo_main/%E4%BA%94%E6%98%9F%E4%B8%BB%E5%BB%9A%E5%BF%AB%E9%A4%90%E8%BB%8A-chef-5270\n",
            "https://movies.yahoo.com.tw/movieinfo_main/%E9%9C%B2%E8%A5%BF-lucy-5180\n",
            "https://movies.yahoo.com.tw/movieinfo_main/%E8%82%8C%E8%86%9A%E4%B9%8B%E4%BE%B5-under-the-skin-5253\n",
            "https://movies.yahoo.com.tw/movieinfo_main/%E7%BE%8E%E5%9C%8B%E9%9A%8A%E9%95%B72-%E9%85%B7%E5%AF%92%E6%88%B0%E5%A3%AB-captain-america-the-winter-soldier-4971\n",
            "https://movies.yahoo.com.tw/movieinfo_main/%E9%9B%B2%E7%AB%AF%E6%83%85%E4%BA%BA-her-5039\n",
            "https://movies.yahoo.com.tw/movieinfo_main/%E8%B6%85%E6%80%A5%E6%83%85%E8%81%96-don-jon-4713\n",
            "https://movies.yahoo.com.tw/movieinfo_main/%E9%A9%9A%E6%82%9A%E5%A4%A7%E5%B8%AB-%E5%B8%8C%E5%8D%80%E8%80%83%E5%85%8B-hitchcock-4543\n",
            "https://movies.yahoo.com.tw/movieinfo_main/%E5%BE%A9%E4%BB%87%E8%80%85%E8%81%AF%E7%9B%9F-the-avengers-4034\n",
            "https://movies.yahoo.com.tw/movieinfo_main/%E6%88%91%E5%80%91%E8%B2%B7%E4%BA%86%E5%8B%95%E7%89%A9%E5%9C%92-we-bought-a-zoo-4076\n",
            "https://movies.yahoo.com.tw/movieinfo_main/%E9%8B%BC%E9%90%B5%E4%BA%BA2-iron-man-2-3300\n",
            "https://movies.yahoo.com.tw/movieinfo_main/%E4%BB%96%E5%85%B6%E5%AF%A6%E6%B2%92%E9%82%A3%E9%BA%BC%E5%96%9C%E6%AD%A1%E5%A6%B3-hes-just-not-that-into-you-2703\n",
            "https://movies.yahoo.com.tw/movieinfo_main/%E9%96%83%E9%9D%88%E4%BF%A0-the-spirit-2828\n",
            "https://movies.yahoo.com.tw/movieinfo_main/%E6%83%85%E9%81%87%E5%B7%B4%E5%A1%9E%E9%9A%86%E7%B4%8D-vicky-cristina-barcelona-2674\n",
            "https://movies.yahoo.com.tw/movieinfo_main/%E7%BE%8E%E4%BA%BA%E5%BF%83%E6%A9%9F-the-other-boleyn-girl-2573\n",
            "https://movies.yahoo.com.tw/movieinfo_main/%E9%81%87%E4%B8%8A%E5%A1%94%E7%BE%85%E7%89%8C%E6%83%85%E4%BA%BA-scoop-2418\n",
            "https://movies.yahoo.com.tw/movieinfo_main/%E8%B1%AA%E9%96%80%E4%BF%9D%E5%A7%86%E6%97%A5%E8%A8%98-the-nanny-diaries-2374\n",
            "https://movies.yahoo.com.tw/movieinfo_main/%E7%BE%8E%E9%BA%97%E8%AA%98%E6%83%91-a-good-woman-2220\n",
            "https://movies.yahoo.com.tw/movieinfo_main/%E9%BB%91%E8%89%B2%E5%A4%A7%E7%90%86%E8%8A%B1%E6%87%B8%E6%A1%88-the-black-dahlia-1891\n"
          ],
          "name": "stdout"
        }
      ]
    },
    {
      "cell_type": "markdown",
      "metadata": {
        "id": "f89_MqW3IfX8"
      },
      "source": [
        "# Now everything is ready,make each process as a fucnction"
      ]
    },
    {
      "cell_type": "code",
      "metadata": {
        "colab": {
          "base_uri": "https://localhost:8080/"
        },
        "id": "_gILpJbeMFpv",
        "outputId": "d673636d-6327-47f7-c579-7573123eee79"
      },
      "source": [
        "cd test/"
      ],
      "execution_count": 255,
      "outputs": [
        {
          "output_type": "stream",
          "text": [
            "/content/test\n"
          ],
          "name": "stdout"
        }
      ]
    },
    {
      "cell_type": "code",
      "metadata": {
        "id": "mVUu_eZeImFi"
      },
      "source": [
        "\n",
        "def getAllRelateMovieURL(movieURL):\n",
        "  #check current movie is visted or not\n",
        "  if(movieLinkVisied.get(movieURL) != None): # not None ,movie is already visted\n",
        "    return\n",
        "\n",
        "  movieLinkVisied[movieURL] = True #set is now visting and \n",
        "  #get detail info with \n",
        "  reqDetail = requests.get(movieURL,headers=HEADER)\n",
        "  detailSoup = BeautifulSoup(reqDetail.text)\n",
        "  detailSoup = detailSoup.find(\"div\",id=\"content_l\")\n",
        "\n",
        "  #getting the basic \n",
        "  # detailSoup.find(\"div\",class_=\"movie_intro_info_r\")\n",
        "  info = detailSoup.find(\"div\",class_=\"movie_intro_info_r\")\n",
        "  # print(\"Name\",info.find(\"h1\").text.strip())\n",
        "  currentData[\"MovieName\"] = info.find(\"h1\").text.strip()\n",
        "\n",
        "  #getting movie genre\n",
        "  genreList = info.findAll(\"div\",class_=\"level_name\")\n",
        "  genresList = []\n",
        "  for genre in genreList:\n",
        "    genresList.append(genre.find(\"a\",class_=\"gabtn\").text.strip())\n",
        "  currentData[\"genre\"] = \",\".join(genresList)\n",
        "\n",
        "  #getting movie intro\n",
        "  intro = detailSoup.find(\"div\",class_=\"gray_infobox_inner\")\n",
        "  introData = intro.find(\"span\",id=\"story\").text.strip()\n",
        "  currentData[\"intro\"] = introData\n",
        "  # movieData.append(data)\n",
        "  \n",
        "  # print(data)\n",
        "\n",
        "  if(detailSoup.findAll(\"div\",class_=\"l_box have_arbox _c\")[0].find(\"ul\",\"trailer_list alist starlist\") != None):\n",
        "      actorList = detailSoup.findAll(\"div\",class_=\"l_box have_arbox _c\")[0].find(\"ul\",\"trailer_list alist starlist\").findAll(\"li\")\n",
        "      for actor in actorList:\n",
        "        # currentActor = actor.find(\"a\",class_=\"gabtn\").find(\"div\",class_=\"actor_inner\").find(\"h2\").text.strip()\n",
        "        currentActorLink =   actor.find(\"a\",class_=\"gabtn\")[\"href\"]\n",
        "        getActorMovieInfo(currentActorLink) # this action will append all none visited movie of current movie action had-----------------------------------------------------------------------------------------------------------------------------------------\\n\")\n",
        "\n",
        "\n",
        "#Working\n",
        "def getActorMovieInfo(actorURL):\n",
        "  #check current Actor is already visted\n",
        "  if(actorLinkVisted.get(actorURL) != None): #Not None: is already visited\n",
        "    return\n",
        "\n",
        "  actorPage = requests.get(actorURL,headers=HEADER)\n",
        "  actorSoup = BeautifulSoup(actorPage.text)\n",
        "\n",
        "  actorLinkVisted[actorURL] = True\n",
        "\n",
        "  #condition is there is any actor?\n",
        "  if(actorSoup.find(\"ul\",class_=\"trailer_list _slickfive\") != None):\n",
        "    for movie in actorSoup.find(\"ul\",class_=\"trailer_list _slickfive\").findAll(\"li\"):\n",
        "        url = movie.find(\"div\",class_=\"_slickcontent\").find(\"a\",class_=\"gabtn\")['href']\n",
        "        if(movieLinkVisied.get(url) != None): # not None ,movie is already visted\n",
        "          continue\n",
        "        movieUrlList.append(url)"
      ],
      "execution_count": 334,
      "outputs": []
    },
    {
      "cell_type": "code",
      "metadata": {
        "id": "xMa93iBQKptS"
      },
      "source": [
        "#test function\n",
        "#getActorMovieInfo(\"https://movies.yahoo.com.tw/name_main/%E4%B8%B9%E5%B0%BC%E6%96%AF%E6%9D%9C%E6%A0%B9-dennis-dugan-5276\")\n",
        "#getMovieInfo(\"https://movies.yahoo.com.tw/movieinfo_main/%E9%BB%91%E5%AF%A1%E5%A9%A6-black-widow-10397\")"
      ],
      "execution_count": 12,
      "outputs": []
    },
    {
      "cell_type": "code",
      "metadata": {
        "id": "yuO_xmzWvhlj"
      },
      "source": [
        "\n",
        "def webCrawler(baseURL,movieType,pages=1):\n",
        "  #need some error handle here\n",
        "\n",
        "  for page in range(1,pages + 1):\n",
        "    webURL = baseURL + \"/\"+ movieType +\"?page=%s\" %page\n",
        "\n",
        "    #now sending the request\n",
        "    movieReq = requests.get(webURL,headers=HEADER)\n",
        "    currentPage = BeautifulSoup(movieReq.text)\n",
        "\n",
        "    #check current page is empty/no movie there\n",
        "    if(currentPage.find(\"div\",class_=\"release_box\").find(\"ul\",class_=\"release_list\").find(\"a\",class_=\"btn_s_introduction\") == None):\n",
        "      return\n",
        "\n",
        "    movieList = currentPage.find(\"div\",class_=\"release_box\").find(\"ul\",class_=\"release_list\").find(\"a\",class_=\"btn_s_introduction\")['href']\n",
        "    #now we need to get all data for the movie\n",
        "    #now we get the name and its link for tesing\n",
        "    movieData = currentPage.findAll(\"div\",class_=\"release_info\")\n",
        "    for item in movieData:\n",
        "        # get movie name\n",
        "        # print(item.find(\"div\",class_=\"release_movie_name\").find(\"a\",class_=\"gabtn\").text.strip())\n",
        "\n",
        "        #get movie detail URL,all detail \n",
        "        # print(item.find(\"div\",class_=\"release_btn color_btnbox\").find(\"a\",class_=\"btn_s_introduction\")[\"href\"])\n",
        "        detailURL = item.find(\"div\",class_=\"release_btn color_btnbox\").find(\"a\",class_=\"btn_s_introduction\")[\"href\"]\n",
        "        movieUrlList.append(detailURL)"
      ],
      "execution_count": 211,
      "outputs": []
    },
    {
      "cell_type": "code",
      "metadata": {
        "id": "xUgqMNEQMK64"
      },
      "source": [
        "movieUrlList = []\n",
        "actorLinkVisted = {}\n",
        "movieLinkVisied = {}\n",
        "currentData = {}\n",
        "#Check the logic ,use the loop instead of recurring\n",
        "#first thing first get the movieLink from the web first\n",
        "# type_list = {\n",
        "#     \"playing\":\"/movie_intheaters.html\",\n",
        "#     \"upcoming\":\"/movie_comingsoon.html\",\n",
        "#     \"thisweek\":\"/movie_thisweek.html\"\n",
        "# }\n",
        "\n",
        "# baseURL = \"https://movies.yahoo.com.tw\"+ type_list[\"playing\"]\n",
        "\n",
        "'''\n",
        "1. get all movie link from different page and store in a \n",
        "2. using a loop to get all actor movie and store in a list\n",
        "'''\n",
        "\n",
        "webCrawler(\"https://movies.yahoo.com.tw\",type_list[\"playing\"],7)\n",
        "# webCrawler(\"https://movies.yahoo.com.tw\",type_list[\"upcoming\"],7)\n",
        "# webCrawler(\"https://movies.yahoo.com.tw\",type_list[\"thisweek\"],7)\n"
      ],
      "execution_count": 348,
      "outputs": []
    },
    {
      "cell_type": "code",
      "metadata": {
        "colab": {
          "base_uri": "https://localhost:8080/"
        },
        "id": "4_WVIkvTWvqd",
        "outputId": "9af8fe67-aa71-4eb9-bc2b-711bd3615f31"
      },
      "source": [
        "cd .."
      ],
      "execution_count": 345,
      "outputs": [
        {
          "output_type": "stream",
          "text": [
            "/content\n"
          ],
          "name": "stdout"
        }
      ]
    },
    {
      "cell_type": "code",
      "metadata": {
        "colab": {
          "base_uri": "https://localhost:8080/"
        },
        "id": "ZQ0VhTJrXg_2",
        "outputId": "011e1ada-348b-41fa-9b97-d23b091a7803"
      },
      "source": [
        "from google.colab import drive\n",
        "drive.mount('/content/gdrive')\n",
        "uploaded.SetContentFile('picture.jpg')"
      ],
      "execution_count": 341,
      "outputs": [
        {
          "output_type": "stream",
          "text": [
            "Mounted at /content/gdrive\n"
          ],
          "name": "stdout"
        }
      ]
    },
    {
      "cell_type": "code",
      "metadata": {
        "colab": {
          "base_uri": "https://localhost:8080/",
          "height": 425
        },
        "id": "dVsRwxp02P3l",
        "outputId": "945f9b0f-df85-44fa-9fa8-6d5cd0dbe18d"
      },
      "source": [
        "#now will loop over the current list and add new item via its actor\n",
        "import csv\n",
        "#add to csv every 5 time\n",
        "with open(\"./movie.csv\",\"w\") as movie:\n",
        "  fieldnames = [\"MovieName\",\"genre\",\"intro\"]\n",
        "  writer = csv.DictWriter(movie,fieldnames=fieldnames)\n",
        "  writer.writeheader()\n",
        "  for i in movieUrlList:\n",
        "    getAllRelateMovieURL(i)\n",
        "    writer.writerow(currentData)\n",
        "\n",
        "\n"
      ],
      "execution_count": 349,
      "outputs": [
        {
          "output_type": "error",
          "ename": "KeyboardInterrupt",
          "evalue": "ignored",
          "traceback": [
            "\u001b[0;31m---------------------------------------------------------------------------\u001b[0m",
            "\u001b[0;31mTypeError\u001b[0m                                 Traceback (most recent call last)",
            "\u001b[0;32m/usr/local/lib/python3.7/dist-packages/urllib3/connectionpool.py\u001b[0m in \u001b[0;36m_make_request\u001b[0;34m(self, conn, method, url, timeout, chunked, **httplib_request_kw)\u001b[0m\n\u001b[1;32m    376\u001b[0m             \u001b[0;32mtry\u001b[0m\u001b[0;34m:\u001b[0m  \u001b[0;31m# Python 2.7, use buffering of HTTP responses\u001b[0m\u001b[0;34m\u001b[0m\u001b[0;34m\u001b[0m\u001b[0m\n\u001b[0;32m--> 377\u001b[0;31m                 \u001b[0mhttplib_response\u001b[0m \u001b[0;34m=\u001b[0m \u001b[0mconn\u001b[0m\u001b[0;34m.\u001b[0m\u001b[0mgetresponse\u001b[0m\u001b[0;34m(\u001b[0m\u001b[0mbuffering\u001b[0m\u001b[0;34m=\u001b[0m\u001b[0;32mTrue\u001b[0m\u001b[0;34m)\u001b[0m\u001b[0;34m\u001b[0m\u001b[0;34m\u001b[0m\u001b[0m\n\u001b[0m\u001b[1;32m    378\u001b[0m             \u001b[0;32mexcept\u001b[0m \u001b[0mTypeError\u001b[0m\u001b[0;34m:\u001b[0m  \u001b[0;31m# Python 3\u001b[0m\u001b[0;34m\u001b[0m\u001b[0;34m\u001b[0m\u001b[0m\n",
            "\u001b[0;31mTypeError\u001b[0m: getresponse() got an unexpected keyword argument 'buffering'",
            "\nDuring handling of the above exception, another exception occurred:\n",
            "\u001b[0;31mKeyboardInterrupt\u001b[0m                         Traceback (most recent call last)",
            "\u001b[0;32m<ipython-input-349-d1fb2cdb01fa>\u001b[0m in \u001b[0;36m<module>\u001b[0;34m()\u001b[0m\n\u001b[1;32m      7\u001b[0m   \u001b[0mwriter\u001b[0m\u001b[0;34m.\u001b[0m\u001b[0mwriteheader\u001b[0m\u001b[0;34m(\u001b[0m\u001b[0;34m)\u001b[0m\u001b[0;34m\u001b[0m\u001b[0;34m\u001b[0m\u001b[0m\n\u001b[1;32m      8\u001b[0m   \u001b[0;32mfor\u001b[0m \u001b[0mi\u001b[0m \u001b[0;32min\u001b[0m \u001b[0mmovieUrlList\u001b[0m\u001b[0;34m:\u001b[0m\u001b[0;34m\u001b[0m\u001b[0;34m\u001b[0m\u001b[0m\n\u001b[0;32m----> 9\u001b[0;31m     \u001b[0mgetAllRelateMovieURL\u001b[0m\u001b[0;34m(\u001b[0m\u001b[0mi\u001b[0m\u001b[0;34m)\u001b[0m\u001b[0;34m\u001b[0m\u001b[0;34m\u001b[0m\u001b[0m\n\u001b[0m\u001b[1;32m     10\u001b[0m     \u001b[0mwriter\u001b[0m\u001b[0;34m.\u001b[0m\u001b[0mwriterow\u001b[0m\u001b[0;34m(\u001b[0m\u001b[0mcurrentData\u001b[0m\u001b[0;34m)\u001b[0m\u001b[0;34m\u001b[0m\u001b[0;34m\u001b[0m\u001b[0m\n\u001b[1;32m     11\u001b[0m \u001b[0;34m\u001b[0m\u001b[0m\n",
            "\u001b[0;32m<ipython-input-334-2b00852307b3>\u001b[0m in \u001b[0;36mgetAllRelateMovieURL\u001b[0;34m(movieURL)\u001b[0m\n\u001b[1;32m     37\u001b[0m         \u001b[0;31m# currentActor = actor.find(\"a\",class_=\"gabtn\").find(\"div\",class_=\"actor_inner\").find(\"h2\").text.strip()\u001b[0m\u001b[0;34m\u001b[0m\u001b[0;34m\u001b[0m\u001b[0;34m\u001b[0m\u001b[0m\n\u001b[1;32m     38\u001b[0m         \u001b[0mcurrentActorLink\u001b[0m \u001b[0;34m=\u001b[0m   \u001b[0mactor\u001b[0m\u001b[0;34m.\u001b[0m\u001b[0mfind\u001b[0m\u001b[0;34m(\u001b[0m\u001b[0;34m\"a\"\u001b[0m\u001b[0;34m,\u001b[0m\u001b[0mclass_\u001b[0m\u001b[0;34m=\u001b[0m\u001b[0;34m\"gabtn\"\u001b[0m\u001b[0;34m)\u001b[0m\u001b[0;34m[\u001b[0m\u001b[0;34m\"href\"\u001b[0m\u001b[0;34m]\u001b[0m\u001b[0;34m\u001b[0m\u001b[0;34m\u001b[0m\u001b[0m\n\u001b[0;32m---> 39\u001b[0;31m         \u001b[0mgetActorMovieInfo\u001b[0m\u001b[0;34m(\u001b[0m\u001b[0mcurrentActorLink\u001b[0m\u001b[0;34m)\u001b[0m \u001b[0;31m# this action will append all none visited movie of current movie action had-----------------------------------------------------------------------------------------------------------------------------------------\\n\")\u001b[0m\u001b[0;34m\u001b[0m\u001b[0;34m\u001b[0m\u001b[0m\n\u001b[0m\u001b[1;32m     40\u001b[0m \u001b[0;34m\u001b[0m\u001b[0m\n\u001b[1;32m     41\u001b[0m \u001b[0;34m\u001b[0m\u001b[0m\n",
            "\u001b[0;32m<ipython-input-334-2b00852307b3>\u001b[0m in \u001b[0;36mgetActorMovieInfo\u001b[0;34m(actorURL)\u001b[0m\n\u001b[1;32m     46\u001b[0m     \u001b[0;32mreturn\u001b[0m\u001b[0;34m\u001b[0m\u001b[0;34m\u001b[0m\u001b[0m\n\u001b[1;32m     47\u001b[0m \u001b[0;34m\u001b[0m\u001b[0m\n\u001b[0;32m---> 48\u001b[0;31m   \u001b[0mactorPage\u001b[0m \u001b[0;34m=\u001b[0m \u001b[0mrequests\u001b[0m\u001b[0;34m.\u001b[0m\u001b[0mget\u001b[0m\u001b[0;34m(\u001b[0m\u001b[0mactorURL\u001b[0m\u001b[0;34m,\u001b[0m\u001b[0mheaders\u001b[0m\u001b[0;34m=\u001b[0m\u001b[0mHEADER\u001b[0m\u001b[0;34m)\u001b[0m\u001b[0;34m\u001b[0m\u001b[0;34m\u001b[0m\u001b[0m\n\u001b[0m\u001b[1;32m     49\u001b[0m   \u001b[0mactorSoup\u001b[0m \u001b[0;34m=\u001b[0m \u001b[0mBeautifulSoup\u001b[0m\u001b[0;34m(\u001b[0m\u001b[0mactorPage\u001b[0m\u001b[0;34m.\u001b[0m\u001b[0mtext\u001b[0m\u001b[0;34m)\u001b[0m\u001b[0;34m\u001b[0m\u001b[0;34m\u001b[0m\u001b[0m\n\u001b[1;32m     50\u001b[0m \u001b[0;34m\u001b[0m\u001b[0m\n",
            "\u001b[0;32m/usr/local/lib/python3.7/dist-packages/requests/api.py\u001b[0m in \u001b[0;36mget\u001b[0;34m(url, params, **kwargs)\u001b[0m\n\u001b[1;32m     74\u001b[0m \u001b[0;34m\u001b[0m\u001b[0m\n\u001b[1;32m     75\u001b[0m     \u001b[0mkwargs\u001b[0m\u001b[0;34m.\u001b[0m\u001b[0msetdefault\u001b[0m\u001b[0;34m(\u001b[0m\u001b[0;34m'allow_redirects'\u001b[0m\u001b[0;34m,\u001b[0m \u001b[0;32mTrue\u001b[0m\u001b[0;34m)\u001b[0m\u001b[0;34m\u001b[0m\u001b[0;34m\u001b[0m\u001b[0m\n\u001b[0;32m---> 76\u001b[0;31m     \u001b[0;32mreturn\u001b[0m \u001b[0mrequest\u001b[0m\u001b[0;34m(\u001b[0m\u001b[0;34m'get'\u001b[0m\u001b[0;34m,\u001b[0m \u001b[0murl\u001b[0m\u001b[0;34m,\u001b[0m \u001b[0mparams\u001b[0m\u001b[0;34m=\u001b[0m\u001b[0mparams\u001b[0m\u001b[0;34m,\u001b[0m \u001b[0;34m**\u001b[0m\u001b[0mkwargs\u001b[0m\u001b[0;34m)\u001b[0m\u001b[0;34m\u001b[0m\u001b[0;34m\u001b[0m\u001b[0m\n\u001b[0m\u001b[1;32m     77\u001b[0m \u001b[0;34m\u001b[0m\u001b[0m\n\u001b[1;32m     78\u001b[0m \u001b[0;34m\u001b[0m\u001b[0m\n",
            "\u001b[0;32m/usr/local/lib/python3.7/dist-packages/requests/api.py\u001b[0m in \u001b[0;36mrequest\u001b[0;34m(method, url, **kwargs)\u001b[0m\n\u001b[1;32m     59\u001b[0m     \u001b[0;31m# cases, and look like a memory leak in others.\u001b[0m\u001b[0;34m\u001b[0m\u001b[0;34m\u001b[0m\u001b[0;34m\u001b[0m\u001b[0m\n\u001b[1;32m     60\u001b[0m     \u001b[0;32mwith\u001b[0m \u001b[0msessions\u001b[0m\u001b[0;34m.\u001b[0m\u001b[0mSession\u001b[0m\u001b[0;34m(\u001b[0m\u001b[0;34m)\u001b[0m \u001b[0;32mas\u001b[0m \u001b[0msession\u001b[0m\u001b[0;34m:\u001b[0m\u001b[0;34m\u001b[0m\u001b[0;34m\u001b[0m\u001b[0m\n\u001b[0;32m---> 61\u001b[0;31m         \u001b[0;32mreturn\u001b[0m \u001b[0msession\u001b[0m\u001b[0;34m.\u001b[0m\u001b[0mrequest\u001b[0m\u001b[0;34m(\u001b[0m\u001b[0mmethod\u001b[0m\u001b[0;34m=\u001b[0m\u001b[0mmethod\u001b[0m\u001b[0;34m,\u001b[0m \u001b[0murl\u001b[0m\u001b[0;34m=\u001b[0m\u001b[0murl\u001b[0m\u001b[0;34m,\u001b[0m \u001b[0;34m**\u001b[0m\u001b[0mkwargs\u001b[0m\u001b[0;34m)\u001b[0m\u001b[0;34m\u001b[0m\u001b[0;34m\u001b[0m\u001b[0m\n\u001b[0m\u001b[1;32m     62\u001b[0m \u001b[0;34m\u001b[0m\u001b[0m\n\u001b[1;32m     63\u001b[0m \u001b[0;34m\u001b[0m\u001b[0m\n",
            "\u001b[0;32m/usr/local/lib/python3.7/dist-packages/requests/sessions.py\u001b[0m in \u001b[0;36mrequest\u001b[0;34m(self, method, url, params, data, headers, cookies, files, auth, timeout, allow_redirects, proxies, hooks, stream, verify, cert, json)\u001b[0m\n\u001b[1;32m    528\u001b[0m         }\n\u001b[1;32m    529\u001b[0m         \u001b[0msend_kwargs\u001b[0m\u001b[0;34m.\u001b[0m\u001b[0mupdate\u001b[0m\u001b[0;34m(\u001b[0m\u001b[0msettings\u001b[0m\u001b[0;34m)\u001b[0m\u001b[0;34m\u001b[0m\u001b[0;34m\u001b[0m\u001b[0m\n\u001b[0;32m--> 530\u001b[0;31m         \u001b[0mresp\u001b[0m \u001b[0;34m=\u001b[0m \u001b[0mself\u001b[0m\u001b[0;34m.\u001b[0m\u001b[0msend\u001b[0m\u001b[0;34m(\u001b[0m\u001b[0mprep\u001b[0m\u001b[0;34m,\u001b[0m \u001b[0;34m**\u001b[0m\u001b[0msend_kwargs\u001b[0m\u001b[0;34m)\u001b[0m\u001b[0;34m\u001b[0m\u001b[0;34m\u001b[0m\u001b[0m\n\u001b[0m\u001b[1;32m    531\u001b[0m \u001b[0;34m\u001b[0m\u001b[0m\n\u001b[1;32m    532\u001b[0m         \u001b[0;32mreturn\u001b[0m \u001b[0mresp\u001b[0m\u001b[0;34m\u001b[0m\u001b[0;34m\u001b[0m\u001b[0m\n",
            "\u001b[0;32m/usr/local/lib/python3.7/dist-packages/requests/sessions.py\u001b[0m in \u001b[0;36msend\u001b[0;34m(self, request, **kwargs)\u001b[0m\n\u001b[1;32m    641\u001b[0m \u001b[0;34m\u001b[0m\u001b[0m\n\u001b[1;32m    642\u001b[0m         \u001b[0;31m# Send the request\u001b[0m\u001b[0;34m\u001b[0m\u001b[0;34m\u001b[0m\u001b[0;34m\u001b[0m\u001b[0m\n\u001b[0;32m--> 643\u001b[0;31m         \u001b[0mr\u001b[0m \u001b[0;34m=\u001b[0m \u001b[0madapter\u001b[0m\u001b[0;34m.\u001b[0m\u001b[0msend\u001b[0m\u001b[0;34m(\u001b[0m\u001b[0mrequest\u001b[0m\u001b[0;34m,\u001b[0m \u001b[0;34m**\u001b[0m\u001b[0mkwargs\u001b[0m\u001b[0;34m)\u001b[0m\u001b[0;34m\u001b[0m\u001b[0;34m\u001b[0m\u001b[0m\n\u001b[0m\u001b[1;32m    644\u001b[0m \u001b[0;34m\u001b[0m\u001b[0m\n\u001b[1;32m    645\u001b[0m         \u001b[0;31m# Total elapsed time of the request (approximately)\u001b[0m\u001b[0;34m\u001b[0m\u001b[0;34m\u001b[0m\u001b[0;34m\u001b[0m\u001b[0m\n",
            "\u001b[0;32m/usr/local/lib/python3.7/dist-packages/requests/adapters.py\u001b[0m in \u001b[0;36msend\u001b[0;34m(self, request, stream, timeout, verify, cert, proxies)\u001b[0m\n\u001b[1;32m    447\u001b[0m                     \u001b[0mdecode_content\u001b[0m\u001b[0;34m=\u001b[0m\u001b[0;32mFalse\u001b[0m\u001b[0;34m,\u001b[0m\u001b[0;34m\u001b[0m\u001b[0;34m\u001b[0m\u001b[0m\n\u001b[1;32m    448\u001b[0m                     \u001b[0mretries\u001b[0m\u001b[0;34m=\u001b[0m\u001b[0mself\u001b[0m\u001b[0;34m.\u001b[0m\u001b[0mmax_retries\u001b[0m\u001b[0;34m,\u001b[0m\u001b[0;34m\u001b[0m\u001b[0;34m\u001b[0m\u001b[0m\n\u001b[0;32m--> 449\u001b[0;31m                     \u001b[0mtimeout\u001b[0m\u001b[0;34m=\u001b[0m\u001b[0mtimeout\u001b[0m\u001b[0;34m\u001b[0m\u001b[0;34m\u001b[0m\u001b[0m\n\u001b[0m\u001b[1;32m    450\u001b[0m                 )\n\u001b[1;32m    451\u001b[0m \u001b[0;34m\u001b[0m\u001b[0m\n",
            "\u001b[0;32m/usr/local/lib/python3.7/dist-packages/urllib3/connectionpool.py\u001b[0m in \u001b[0;36murlopen\u001b[0;34m(self, method, url, body, headers, retries, redirect, assert_same_host, timeout, pool_timeout, release_conn, chunked, body_pos, **response_kw)\u001b[0m\n\u001b[1;32m    598\u001b[0m                                                   \u001b[0mtimeout\u001b[0m\u001b[0;34m=\u001b[0m\u001b[0mtimeout_obj\u001b[0m\u001b[0;34m,\u001b[0m\u001b[0;34m\u001b[0m\u001b[0;34m\u001b[0m\u001b[0m\n\u001b[1;32m    599\u001b[0m                                                   \u001b[0mbody\u001b[0m\u001b[0;34m=\u001b[0m\u001b[0mbody\u001b[0m\u001b[0;34m,\u001b[0m \u001b[0mheaders\u001b[0m\u001b[0;34m=\u001b[0m\u001b[0mheaders\u001b[0m\u001b[0;34m,\u001b[0m\u001b[0;34m\u001b[0m\u001b[0;34m\u001b[0m\u001b[0m\n\u001b[0;32m--> 600\u001b[0;31m                                                   chunked=chunked)\n\u001b[0m\u001b[1;32m    601\u001b[0m \u001b[0;34m\u001b[0m\u001b[0m\n\u001b[1;32m    602\u001b[0m             \u001b[0;31m# If we're going to release the connection in ``finally:``, then\u001b[0m\u001b[0;34m\u001b[0m\u001b[0;34m\u001b[0m\u001b[0;34m\u001b[0m\u001b[0m\n",
            "\u001b[0;32m/usr/local/lib/python3.7/dist-packages/urllib3/connectionpool.py\u001b[0m in \u001b[0;36m_make_request\u001b[0;34m(self, conn, method, url, timeout, chunked, **httplib_request_kw)\u001b[0m\n\u001b[1;32m    378\u001b[0m             \u001b[0;32mexcept\u001b[0m \u001b[0mTypeError\u001b[0m\u001b[0;34m:\u001b[0m  \u001b[0;31m# Python 3\u001b[0m\u001b[0;34m\u001b[0m\u001b[0;34m\u001b[0m\u001b[0m\n\u001b[1;32m    379\u001b[0m                 \u001b[0;32mtry\u001b[0m\u001b[0;34m:\u001b[0m\u001b[0;34m\u001b[0m\u001b[0;34m\u001b[0m\u001b[0m\n\u001b[0;32m--> 380\u001b[0;31m                     \u001b[0mhttplib_response\u001b[0m \u001b[0;34m=\u001b[0m \u001b[0mconn\u001b[0m\u001b[0;34m.\u001b[0m\u001b[0mgetresponse\u001b[0m\u001b[0;34m(\u001b[0m\u001b[0;34m)\u001b[0m\u001b[0;34m\u001b[0m\u001b[0;34m\u001b[0m\u001b[0m\n\u001b[0m\u001b[1;32m    381\u001b[0m                 \u001b[0;32mexcept\u001b[0m \u001b[0mException\u001b[0m \u001b[0;32mas\u001b[0m \u001b[0me\u001b[0m\u001b[0;34m:\u001b[0m\u001b[0;34m\u001b[0m\u001b[0;34m\u001b[0m\u001b[0m\n\u001b[1;32m    382\u001b[0m                     \u001b[0;31m# Remove the TypeError from the exception chain in Python 3;\u001b[0m\u001b[0;34m\u001b[0m\u001b[0;34m\u001b[0m\u001b[0;34m\u001b[0m\u001b[0m\n",
            "\u001b[0;32m/usr/lib/python3.7/http/client.py\u001b[0m in \u001b[0;36mgetresponse\u001b[0;34m(self)\u001b[0m\n\u001b[1;32m   1371\u001b[0m         \u001b[0;32mtry\u001b[0m\u001b[0;34m:\u001b[0m\u001b[0;34m\u001b[0m\u001b[0;34m\u001b[0m\u001b[0m\n\u001b[1;32m   1372\u001b[0m             \u001b[0;32mtry\u001b[0m\u001b[0;34m:\u001b[0m\u001b[0;34m\u001b[0m\u001b[0;34m\u001b[0m\u001b[0m\n\u001b[0;32m-> 1373\u001b[0;31m                 \u001b[0mresponse\u001b[0m\u001b[0;34m.\u001b[0m\u001b[0mbegin\u001b[0m\u001b[0;34m(\u001b[0m\u001b[0;34m)\u001b[0m\u001b[0;34m\u001b[0m\u001b[0;34m\u001b[0m\u001b[0m\n\u001b[0m\u001b[1;32m   1374\u001b[0m             \u001b[0;32mexcept\u001b[0m \u001b[0mConnectionError\u001b[0m\u001b[0;34m:\u001b[0m\u001b[0;34m\u001b[0m\u001b[0;34m\u001b[0m\u001b[0m\n\u001b[1;32m   1375\u001b[0m                 \u001b[0mself\u001b[0m\u001b[0;34m.\u001b[0m\u001b[0mclose\u001b[0m\u001b[0;34m(\u001b[0m\u001b[0;34m)\u001b[0m\u001b[0;34m\u001b[0m\u001b[0;34m\u001b[0m\u001b[0m\n",
            "\u001b[0;32m/usr/lib/python3.7/http/client.py\u001b[0m in \u001b[0;36mbegin\u001b[0;34m(self)\u001b[0m\n\u001b[1;32m    317\u001b[0m         \u001b[0;31m# read until we get a non-100 response\u001b[0m\u001b[0;34m\u001b[0m\u001b[0;34m\u001b[0m\u001b[0;34m\u001b[0m\u001b[0m\n\u001b[1;32m    318\u001b[0m         \u001b[0;32mwhile\u001b[0m \u001b[0;32mTrue\u001b[0m\u001b[0;34m:\u001b[0m\u001b[0;34m\u001b[0m\u001b[0;34m\u001b[0m\u001b[0m\n\u001b[0;32m--> 319\u001b[0;31m             \u001b[0mversion\u001b[0m\u001b[0;34m,\u001b[0m \u001b[0mstatus\u001b[0m\u001b[0;34m,\u001b[0m \u001b[0mreason\u001b[0m \u001b[0;34m=\u001b[0m \u001b[0mself\u001b[0m\u001b[0;34m.\u001b[0m\u001b[0m_read_status\u001b[0m\u001b[0;34m(\u001b[0m\u001b[0;34m)\u001b[0m\u001b[0;34m\u001b[0m\u001b[0;34m\u001b[0m\u001b[0m\n\u001b[0m\u001b[1;32m    320\u001b[0m             \u001b[0;32mif\u001b[0m \u001b[0mstatus\u001b[0m \u001b[0;34m!=\u001b[0m \u001b[0mCONTINUE\u001b[0m\u001b[0;34m:\u001b[0m\u001b[0;34m\u001b[0m\u001b[0;34m\u001b[0m\u001b[0m\n\u001b[1;32m    321\u001b[0m                 \u001b[0;32mbreak\u001b[0m\u001b[0;34m\u001b[0m\u001b[0;34m\u001b[0m\u001b[0m\n",
            "\u001b[0;32m/usr/lib/python3.7/http/client.py\u001b[0m in \u001b[0;36m_read_status\u001b[0;34m(self)\u001b[0m\n\u001b[1;32m    278\u001b[0m \u001b[0;34m\u001b[0m\u001b[0m\n\u001b[1;32m    279\u001b[0m     \u001b[0;32mdef\u001b[0m \u001b[0m_read_status\u001b[0m\u001b[0;34m(\u001b[0m\u001b[0mself\u001b[0m\u001b[0;34m)\u001b[0m\u001b[0;34m:\u001b[0m\u001b[0;34m\u001b[0m\u001b[0;34m\u001b[0m\u001b[0m\n\u001b[0;32m--> 280\u001b[0;31m         \u001b[0mline\u001b[0m \u001b[0;34m=\u001b[0m \u001b[0mstr\u001b[0m\u001b[0;34m(\u001b[0m\u001b[0mself\u001b[0m\u001b[0;34m.\u001b[0m\u001b[0mfp\u001b[0m\u001b[0;34m.\u001b[0m\u001b[0mreadline\u001b[0m\u001b[0;34m(\u001b[0m\u001b[0m_MAXLINE\u001b[0m \u001b[0;34m+\u001b[0m \u001b[0;36m1\u001b[0m\u001b[0;34m)\u001b[0m\u001b[0;34m,\u001b[0m \u001b[0;34m\"iso-8859-1\"\u001b[0m\u001b[0;34m)\u001b[0m\u001b[0;34m\u001b[0m\u001b[0;34m\u001b[0m\u001b[0m\n\u001b[0m\u001b[1;32m    281\u001b[0m         \u001b[0;32mif\u001b[0m \u001b[0mlen\u001b[0m\u001b[0;34m(\u001b[0m\u001b[0mline\u001b[0m\u001b[0;34m)\u001b[0m \u001b[0;34m>\u001b[0m \u001b[0m_MAXLINE\u001b[0m\u001b[0;34m:\u001b[0m\u001b[0;34m\u001b[0m\u001b[0;34m\u001b[0m\u001b[0m\n\u001b[1;32m    282\u001b[0m             \u001b[0;32mraise\u001b[0m \u001b[0mLineTooLong\u001b[0m\u001b[0;34m(\u001b[0m\u001b[0;34m\"status line\"\u001b[0m\u001b[0;34m)\u001b[0m\u001b[0;34m\u001b[0m\u001b[0;34m\u001b[0m\u001b[0m\n",
            "\u001b[0;32m/usr/lib/python3.7/socket.py\u001b[0m in \u001b[0;36mreadinto\u001b[0;34m(self, b)\u001b[0m\n\u001b[1;32m    587\u001b[0m         \u001b[0;32mwhile\u001b[0m \u001b[0;32mTrue\u001b[0m\u001b[0;34m:\u001b[0m\u001b[0;34m\u001b[0m\u001b[0;34m\u001b[0m\u001b[0m\n\u001b[1;32m    588\u001b[0m             \u001b[0;32mtry\u001b[0m\u001b[0;34m:\u001b[0m\u001b[0;34m\u001b[0m\u001b[0;34m\u001b[0m\u001b[0m\n\u001b[0;32m--> 589\u001b[0;31m                 \u001b[0;32mreturn\u001b[0m \u001b[0mself\u001b[0m\u001b[0;34m.\u001b[0m\u001b[0m_sock\u001b[0m\u001b[0;34m.\u001b[0m\u001b[0mrecv_into\u001b[0m\u001b[0;34m(\u001b[0m\u001b[0mb\u001b[0m\u001b[0;34m)\u001b[0m\u001b[0;34m\u001b[0m\u001b[0;34m\u001b[0m\u001b[0m\n\u001b[0m\u001b[1;32m    590\u001b[0m             \u001b[0;32mexcept\u001b[0m \u001b[0mtimeout\u001b[0m\u001b[0;34m:\u001b[0m\u001b[0;34m\u001b[0m\u001b[0;34m\u001b[0m\u001b[0m\n\u001b[1;32m    591\u001b[0m                 \u001b[0mself\u001b[0m\u001b[0;34m.\u001b[0m\u001b[0m_timeout_occurred\u001b[0m \u001b[0;34m=\u001b[0m \u001b[0;32mTrue\u001b[0m\u001b[0;34m\u001b[0m\u001b[0;34m\u001b[0m\u001b[0m\n",
            "\u001b[0;32m/usr/lib/python3.7/ssl.py\u001b[0m in \u001b[0;36mrecv_into\u001b[0;34m(self, buffer, nbytes, flags)\u001b[0m\n\u001b[1;32m   1069\u001b[0m                   \u001b[0;34m\"non-zero flags not allowed in calls to recv_into() on %s\"\u001b[0m \u001b[0;34m%\u001b[0m\u001b[0;34m\u001b[0m\u001b[0;34m\u001b[0m\u001b[0m\n\u001b[1;32m   1070\u001b[0m                   self.__class__)\n\u001b[0;32m-> 1071\u001b[0;31m             \u001b[0;32mreturn\u001b[0m \u001b[0mself\u001b[0m\u001b[0;34m.\u001b[0m\u001b[0mread\u001b[0m\u001b[0;34m(\u001b[0m\u001b[0mnbytes\u001b[0m\u001b[0;34m,\u001b[0m \u001b[0mbuffer\u001b[0m\u001b[0;34m)\u001b[0m\u001b[0;34m\u001b[0m\u001b[0;34m\u001b[0m\u001b[0m\n\u001b[0m\u001b[1;32m   1072\u001b[0m         \u001b[0;32melse\u001b[0m\u001b[0;34m:\u001b[0m\u001b[0;34m\u001b[0m\u001b[0;34m\u001b[0m\u001b[0m\n\u001b[1;32m   1073\u001b[0m             \u001b[0;32mreturn\u001b[0m \u001b[0msuper\u001b[0m\u001b[0;34m(\u001b[0m\u001b[0;34m)\u001b[0m\u001b[0;34m.\u001b[0m\u001b[0mrecv_into\u001b[0m\u001b[0;34m(\u001b[0m\u001b[0mbuffer\u001b[0m\u001b[0;34m,\u001b[0m \u001b[0mnbytes\u001b[0m\u001b[0;34m,\u001b[0m \u001b[0mflags\u001b[0m\u001b[0;34m)\u001b[0m\u001b[0;34m\u001b[0m\u001b[0;34m\u001b[0m\u001b[0m\n",
            "\u001b[0;32m/usr/lib/python3.7/ssl.py\u001b[0m in \u001b[0;36mread\u001b[0;34m(self, len, buffer)\u001b[0m\n\u001b[1;32m    927\u001b[0m         \u001b[0;32mtry\u001b[0m\u001b[0;34m:\u001b[0m\u001b[0;34m\u001b[0m\u001b[0;34m\u001b[0m\u001b[0m\n\u001b[1;32m    928\u001b[0m             \u001b[0;32mif\u001b[0m \u001b[0mbuffer\u001b[0m \u001b[0;32mis\u001b[0m \u001b[0;32mnot\u001b[0m \u001b[0;32mNone\u001b[0m\u001b[0;34m:\u001b[0m\u001b[0;34m\u001b[0m\u001b[0;34m\u001b[0m\u001b[0m\n\u001b[0;32m--> 929\u001b[0;31m                 \u001b[0;32mreturn\u001b[0m \u001b[0mself\u001b[0m\u001b[0;34m.\u001b[0m\u001b[0m_sslobj\u001b[0m\u001b[0;34m.\u001b[0m\u001b[0mread\u001b[0m\u001b[0;34m(\u001b[0m\u001b[0mlen\u001b[0m\u001b[0;34m,\u001b[0m \u001b[0mbuffer\u001b[0m\u001b[0;34m)\u001b[0m\u001b[0;34m\u001b[0m\u001b[0;34m\u001b[0m\u001b[0m\n\u001b[0m\u001b[1;32m    930\u001b[0m             \u001b[0;32melse\u001b[0m\u001b[0;34m:\u001b[0m\u001b[0;34m\u001b[0m\u001b[0;34m\u001b[0m\u001b[0m\n\u001b[1;32m    931\u001b[0m                 \u001b[0;32mreturn\u001b[0m \u001b[0mself\u001b[0m\u001b[0;34m.\u001b[0m\u001b[0m_sslobj\u001b[0m\u001b[0;34m.\u001b[0m\u001b[0mread\u001b[0m\u001b[0;34m(\u001b[0m\u001b[0mlen\u001b[0m\u001b[0;34m)\u001b[0m\u001b[0;34m\u001b[0m\u001b[0;34m\u001b[0m\u001b[0m\n",
            "\u001b[0;31mKeyboardInterrupt\u001b[0m: "
          ]
        }
      ]
    },
    {
      "cell_type": "code",
      "metadata": {
        "id": "FzV1ItvSK4HY"
      },
      "source": [
        "\n",
        "datas = pd.DataFrame(movieData)\n",
        "datas.to_csv(\"temp.csv\",encoding=\"utf-8\",mode=\"w\")\n"
      ],
      "execution_count": 318,
      "outputs": []
    }
  ]
}