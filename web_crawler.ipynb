{
  "nbformat": 4,
  "nbformat_minor": 0,
  "metadata": {
    "colab": {
      "name": "web crawler",
      "provenance": [],
      "collapsed_sections": [],
      "authorship_tag": "ABX9TyM2IKAUlHOAro/FMJVGNj2u",
      "include_colab_link": true
    },
    "kernelspec": {
      "name": "python3",
      "display_name": "Python 3"
    },
    "language_info": {
      "name": "python"
    }
  },
  "cells": [
    {
      "cell_type": "markdown",
      "metadata": {
        "id": "view-in-github",
        "colab_type": "text"
      },
      "source": [
        "<a href=\"https://colab.research.google.com/github/RyanTokManMokMTM/NLP_Training2/blob/main/web_crawler.ipynb\" target=\"_parent\"><img src=\"https://colab.research.google.com/assets/colab-badge.svg\" alt=\"Open In Colab\"/></a>"
      ]
    },
    {
      "cell_type": "code",
      "metadata": {
        "id": "DHqcEImQCqpu",
        "colab": {
          "base_uri": "https://localhost:8080/",
          "height": 52
        },
        "outputId": "02edecf4-1f0b-41b8-8228-9615cf1cad3d"
      },
      "source": [
        "#TODO\n",
        "'''\n",
        "baseURL:https://movies.yahoo.com.tw/\n",
        "playingNOW:/movie_intheaters.html\n",
        "Upcoming:movie_comingsoon.html\n",
        "ThisWeek:/movie_thisweek.html\n",
        "\n",
        "Accessing the page ?page=x\n",
        "'''"
      ],
      "execution_count": 31,
      "outputs": [
        {
          "output_type": "execute_result",
          "data": {
            "application/vnd.google.colaboratory.intrinsic+json": {
              "type": "string"
            },
            "text/plain": [
              "'\\nbaseURL:https://movies.yahoo.com.tw/\\nplayingNOW:/movie_intheaters.html\\nUpcoming:movie_comingsoon.html\\nThisWeek:/movie_thisweek.html\\n\\nAccessing the page ?page=x\\n'"
            ]
          },
          "metadata": {
            "tags": []
          },
          "execution_count": 31
        }
      ]
    },
    {
      "cell_type": "code",
      "metadata": {
        "colab": {
          "base_uri": "https://localhost:8080/"
        },
        "id": "sdSwqobnIoR3",
        "outputId": "0dec8f84-c0bd-4fea-a658-d877f80b9859"
      },
      "source": [
        "!pip install pandas #install pandas"
      ],
      "execution_count": 32,
      "outputs": [
        {
          "output_type": "stream",
          "text": [
            "Requirement already satisfied: pandas in /usr/local/lib/python3.7/dist-packages (1.1.5)\n",
            "Requirement already satisfied: numpy>=1.15.4 in /usr/local/lib/python3.7/dist-packages (from pandas) (1.19.5)\n",
            "Requirement already satisfied: python-dateutil>=2.7.3 in /usr/local/lib/python3.7/dist-packages (from pandas) (2.8.1)\n",
            "Requirement already satisfied: pytz>=2017.2 in /usr/local/lib/python3.7/dist-packages (from pandas) (2018.9)\n",
            "Requirement already satisfied: six>=1.5 in /usr/local/lib/python3.7/dist-packages (from python-dateutil>=2.7.3->pandas) (1.15.0)\n"
          ],
          "name": "stdout"
        }
      ]
    },
    {
      "cell_type": "code",
      "metadata": {
        "id": "cfG1qhYdNcU-",
        "colab": {
          "base_uri": "https://localhost:8080/",
          "height": 69
        },
        "outputId": "b7f34f6a-0cef-4658-a155-df89551c285a"
      },
      "source": [
        "'''\n",
        "Find The rule of first Movie\n",
        "ForCurrentPage: \n",
        "All movie is inside  class = \"release_list\"\n",
        "Get The URL of the introl button: class=\"release_btn color_btnbox\" first a tag[href']\n",
        "\n",
        "\n",
        "1.ForEach movies, need to get its detail page URL\n",
        "2....\n",
        "'''"
      ],
      "execution_count": 33,
      "outputs": [
        {
          "output_type": "execute_result",
          "data": {
            "application/vnd.google.colaboratory.intrinsic+json": {
              "type": "string"
            },
            "text/plain": [
              "'\\nFind The rule of first Movie\\nForCurrentPage: \\nAll movie is inside  class = \"release_list\"\\nGet The URL of the introl button: class=\"release_btn color_btnbox\" first a tag[href\\']\\n\\n\\n1.ForEach movies, need to get its detail page URL\\n2....\\n'"
            ]
          },
          "metadata": {
            "tags": []
          },
          "execution_count": 33
        }
      ]
    },
    {
      "cell_type": "code",
      "metadata": {
        "colab": {
          "base_uri": "https://localhost:8080/"
        },
        "id": "6-dQFfl4HKh3",
        "outputId": "f4c3df27-47a4-4c73-ae5f-8ac49c571d3e"
      },
      "source": [
        "import requests\n",
        "from bs4 import BeautifulSoup\n",
        "HEADER = {\n",
        "       'User-Agent': 'Mozilla/5.0 (Macintosh; Intel Mac OS X 10_13_6) AppleWebKit/537.36 (KHTML, like Gecko) Chrome/71.0.3578.98 Safari/537.36'\n",
        "}\n",
        "\n",
        "\n",
        "type_list = {\n",
        "    \"playing\":\"/movie_intheaters.html\",\n",
        "    \"upcoming\":\"/movie_comingsoon.html\",\n",
        "    \"thisweek\":\"/movie_thisweek.html\"\n",
        "}\n",
        "\n",
        "baseURL = \"https://movies.yahoo.com.tw\"+ type_list[\"playing\"]\n",
        "print(baseURL)\n",
        "\n",
        "#now sending the request\n",
        "movieReq = requests.get(baseURL,headers=HEADER)\n",
        "currentPage = BeautifulSoup(movieReq.text)\n",
        "\n",
        "#get all movie data from `\n",
        "movieList = currentPage.find(\"div\",class_=\"release_box\").find(\"ul\",class_=\"release_list\").find(\"a\",class_=\"btn_s_introduction\")['href']\n",
        "print(movieList)\n",
        "\n",
        "#now we need to get all data for the movie\n",
        "#now we get the name and its link for tesing\n",
        "movieData = currentPage.findAll(\"div\",class_=\"release_info\")\n",
        "for item in movieData:\n",
        "    #get movie name\n",
        "    print(item.find(\"div\",class_=\"release_movie_name\").find(\"a\",class_=\"gabtn\").text.strip())\n",
        "\n",
        "    #get movie detail URL\n",
        "    print(item.find(\"div\",class_=\"release_btn color_btnbox\").find(\"a\",class_=\"btn_s_introduction\")[\"href\"])\n"
      ],
      "execution_count": 34,
      "outputs": [
        {
          "output_type": "stream",
          "text": [
            "https://movies.yahoo.com.tw/movie_intheaters.html\n",
            "https://movies.yahoo.com.tw/movieinfo_main/%E8%B7%AF%E5%8D%A1%E7%9A%84%E5%A4%8F%E5%A4%A9-luca-11268\n",
            "路卡的夏天\n",
            "https://movies.yahoo.com.tw/movieinfo_main/%E8%B7%AF%E5%8D%A1%E7%9A%84%E5%A4%8F%E5%A4%A9-luca-11268\n",
            "薄荷糖\n",
            "https://movies.yahoo.com.tw/movieinfo_main/%E8%96%84%E8%8D%B7%E7%B3%96-peppermint-candy-11368\n",
            "人聲\n",
            "https://movies.yahoo.com.tw/movieinfo_main/%E4%BA%BA%E8%81%B2-the-human-voice-11400\n",
            "雙面薇若妮卡 經典數位修復\n",
            "https://movies.yahoo.com.tw/movieinfo_main/%E9%9B%99%E9%9D%A2%E8%96%87%E8%8B%A5%E5%A6%AE%E5%8D%A1-%E7%B6%93%E5%85%B8%E6%95%B8%E4%BD%8D%E4%BF%AE%E5%BE%A9-the-double-life-of-veronique-11425\n",
            "合法伴侶\n",
            "https://movies.yahoo.com.tw/movieinfo_main/%E5%90%88%E6%B3%95%E4%BC%B4%E4%BE%B6-special-couple-11441\n",
            "甲子園：夢想競技場\n",
            "https://movies.yahoo.com.tw/movieinfo_main/%E7%94%B2%E5%AD%90%E5%9C%92-%E5%A4%A2%E6%83%B3%E7%AB%B6%E6%8A%80%E5%A0%B4-koshien-japans-field-of-dreams-11449\n",
            "青春：第50屆日本全國高中棒球錦標賽\n",
            "https://movies.yahoo.com.tw/movieinfo_main/%E9%9D%92%E6%98%A5-%E7%AC%AC50%E5%B1%86%E6%97%A5%E6%9C%AC%E5%85%A8%E5%9C%8B%E9%AB%98%E4%B8%AD%E6%A3%92%E7%90%83%E9%8C%A6%E6%A8%99%E8%B3%BD-youth-the-50th-national-high-school-baseball-tournament-11450\n",
            "自殺突擊隊：集結\n",
            "https://movies.yahoo.com.tw/movieinfo_main/%E8%87%AA%E6%AE%BA%E7%AA%81%E6%93%8A%E9%9A%8A-%E9%9B%86%E7%B5%90-the-suicide-squad-11328\n",
            "驅魔禁區\n",
            "https://movies.yahoo.com.tw/movieinfo_main/%E9%A9%85%E9%AD%94%E7%A6%81%E5%8D%80-demonic-11439\n",
            "叢林奇航\n",
            "https://movies.yahoo.com.tw/movieinfo_main/%E5%8F%A2%E6%9E%97%E5%A5%87%E8%88%AA-jungle-cruise-10315\n"
          ],
          "name": "stdout"
        }
      ]
    },
    {
      "cell_type": "code",
      "metadata": {
        "colab": {
          "base_uri": "https://localhost:8080/",
          "height": 69
        },
        "id": "u92MfGaSYQSk",
        "outputId": "147ca958-ab37-4823-cc02-e8ad73c5864a"
      },
      "source": [
        "'''\n",
        "Find the rule of detail movie page\n",
        "Data is needed: movieName, Genra(order is required) and Introl\n",
        "Basic : class = movie_intro_info_r\n",
        "Genre : level_name->a->text\n",
        "Introl: class = gray_infobox_inner -> story -> story ->p\n",
        "'''"
      ],
      "execution_count": 35,
      "outputs": [
        {
          "output_type": "execute_result",
          "data": {
            "application/vnd.google.colaboratory.intrinsic+json": {
              "type": "string"
            },
            "text/plain": [
              "'\\nFind the rule of detail movie page\\nData is needed: movieName, Genra(order is required) and Introl\\nBasic : class = movie_intro_info_r\\nGenre : level_name->a->text\\nIntrol: class = gray_infobox_inner -> story -> story ->p\\n'"
            ]
          },
          "metadata": {
            "tags": []
          },
          "execution_count": 35
        }
      ]
    },
    {
      "cell_type": "code",
      "metadata": {
        "colab": {
          "base_uri": "https://localhost:8080/"
        },
        "id": "jHBiEcdCPPpl",
        "outputId": "d5a60bf4-19b6-4f14-bcac-50c46d2f6f00"
      },
      "source": [
        "#for now just getting the page data\n",
        "#Ignore other related movie for now\n",
        "#later fix existing movie\n",
        "\n",
        "# for page in range(1,8):\n",
        "#   webURL = baseURL + \"?page=%s\"%page\n",
        "#   #send to request to \n",
        "\n",
        "#now we need to get the info we want\n",
        "tempURL = \"https://movies.yahoo.com.tw/movieinfo_main/%E5%8F%A2%E6%9E%97%E5%A5%87%E8%88%AA-jungle-cruise-10315\"\n",
        "reqDetail = requests.get(tempURL,headers=HEADER)\n",
        "detailSoup = BeautifulSoup(reqDetail.text)\n",
        "# print(detailSoup)\n",
        "\n",
        "#getting the basic \n",
        "# detailSoup.find(\"div\",class_=\"movie_intro_info_r\")\n",
        "info = detailSoup.find(\"div\",class_=\"movie_intro_info_r\")\n",
        "print(\"MovieName\",info.find(\"h1\").text.strip())\n",
        "genreList = info.findAll(\"div\",class_=\"level_name\")\n",
        "\n",
        "#getting movie genre\n",
        "for genre in genreList:\n",
        "  print(genre.find(\"a\",class_=\"gabtn\").text.strip())\n",
        "\n",
        "#getting movie intro\n",
        "intro = detailSoup.find(\"div\",class_=\"gray_infobox_inner\")\n",
        "introData = intro.find(\"span\",id=\"story\").text.strip()\n",
        "print(introData)\n"
      ],
      "execution_count": 36,
      "outputs": [
        {
          "output_type": "stream",
          "text": [
            "MovieName 叢林奇航\n",
            "動作\n",
            "冒險\n",
            "奇幻\n",
            "故事描述一位名叫霍頓博士（艾蜜莉布朗 飾演）發現了深藏在亞馬遜裡，有著一顆擁有治癒神力的奇幻之樹，而要取得這棵樹的神力，必須帶著一個被人類收藏的「神奇箭頭」來解開它，霍頓博士決定要深入叢林，來一探這個傳說的究竟，她找來了一個看似可靠，但其實是個只想詐騙遊客的狡猾渡輪船長—法蘭克船長（巨石強森 飾演），她雇用法蘭克載著自己與弟弟（傑克懷特霍爾 飾演）前往叢林展開這場解開神秘傳說之謎的旅程。\r\n",
            " \r\n",
            "迪士尼樂園最受歡迎的人氣遊樂設施「叢林奇航」首度改編成電影，將在2020年暑假搬上大銀幕了！這趟神秘的叢林之旅，要帶著大家進入一趟最驚險刺激的旅程，過程中將會遇上許多危險恐怖的生物，以及奇異的超自然現象，新作融合《國家寶藏》般的驚險探險劇情，加上《神鬼奇航》般的冒險旅程！\n"
          ],
          "name": "stdout"
        }
      ]
    },
    {
      "cell_type": "code",
      "metadata": {
        "colab": {
          "base_uri": "https://localhost:8080/"
        },
        "id": "Nfcl_70bYp87",
        "outputId": "6f46a20d-2eae-4a3a-cf61-8d899acc048e"
      },
      "source": [
        "#now ,tring to get all data from page 1\n",
        "for page in range(1,2):\n",
        "  webURL = baseURL + \"?page=%s\"%page\n",
        "  #now sending the request\n",
        "  movieReq = requests.get(webURL,headers=HEADER)\n",
        "  currentPage = BeautifulSoup(movieReq.text)\n",
        "\n",
        "  #get all movie data from `\n",
        "  movieList = currentPage.find(\"div\",class_=\"release_box\").find(\"ul\",class_=\"release_list\").find(\"a\",class_=\"btn_s_introduction\")['href']\n",
        "  #now we need to get all data for the movie\n",
        "  #now we get the name and its link for tesing\n",
        "  movieData = currentPage.findAll(\"div\",class_=\"release_info\")\n",
        "  for item in movieData:\n",
        "      # get movie name\n",
        "      # print(item.find(\"div\",class_=\"release_movie_name\").find(\"a\",class_=\"gabtn\").text.strip())\n",
        "\n",
        "      #get movie detail URL,all detail \n",
        "      # print(item.find(\"div\",class_=\"release_btn color_btnbox\").find(\"a\",class_=\"btn_s_introduction\")[\"href\"])\n",
        "      detailURL = item.find(\"div\",class_=\"release_btn color_btnbox\").find(\"a\",class_=\"btn_s_introduction\")[\"href\"]\n",
        "      #for each detail link we need to get all info we need\n",
        "      reqDetail = requests.get(detailURL,headers=HEADER)\n",
        "      detailSoup = BeautifulSoup(reqDetail.text)\n",
        "      # print(detailSoup)\n",
        "\n",
        "      #getting the basic \n",
        "      # detailSoup.find(\"div\",class_=\"movie_intro_info_r\")\n",
        "      info = detailSoup.find(\"div\",class_=\"movie_intro_info_r\")\n",
        "      print(\"Name\",info.find(\"h1\").text.strip())\n",
        "      genreList = info.findAll(\"div\",class_=\"level_name\")\n",
        "\n",
        "\n",
        "      #getting movie genre\n",
        "      print(\"Genre:\")\n",
        "      for genre in genreList:\n",
        "        print(genre.find(\"a\",class_=\"gabtn\").text.strip())\n",
        "\n",
        "      #getting movie intro\n",
        "      intro = detailSoup.find(\"div\",class_=\"gray_infobox_inner\")\n",
        "      introData = intro.find(\"span\",id=\"story\").text.strip()\n",
        "      print(\"introl\",introData)\n",
        "      print(\"-------------------------------------------------------------=====================================================================================------\\n\")\n"
      ],
      "execution_count": 39,
      "outputs": [
        {
          "output_type": "stream",
          "text": [
            "Name 路卡的夏天\n",
            "Genre:\n",
            "動畫\n",
            "冒險\n",
            "introl 皮克斯全新原創《路卡的夏天》，故事背景發生在美麗的義大利濱海小鎮里維埃拉，一位名叫路卡的海怪男孩的難忘夏天，他與新摯友們在夏天經歷的無數冒險，包含他們在島上參加的競賽，但最刺激的不是競賽本身，而是隱藏他們呼之欲出的海怪身份…\r\n",
            " \r\n",
            "《路卡的夏天》是一個成長的故事，海怪男孩是曾經的你我，好奇心驅使你走出舒適圈，遇見真誠的友誼，學習鼓起勇氣由衷生活，完成自以為不可能的夢想…\n",
            "-------------------------------------------------------------=====================================================================================------\n",
            "\n",
            "Name 薄荷糖\n",
            "Genre:\n",
            "劇情\n",
            "introl ★韓國重量級名導李滄東「綠色三部曲」之一！ \n",
            "★勇奪「南韓奧斯卡」大鐘獎最佳影片、導演、劇本、女配角、新人等五項大獎！ \n",
            "★韓國影帝薛耿求勇奪韓國青龍、大鐘兩大獎經典之作！ \n",
            "★英國《衛報》評為「20大韓國經典電影」！ \n",
            "★榮膺第4屆釜山影展開幕影片！ \n",
            "★第53屆法國坎城影展「導演雙週」入選影片！\n",
            " \n",
            "如果人生可以倒退　一切都能重新來過嗎？\n",
            " \n",
            "在千禧年前夕，金英浩(薛耿求飾)依約到了年少時同伴們的河邊聚會，他們曾在這裡各自訴說夢想，也是金英浩與暗戀已久的初戀情人尹順林(文素利飾)擁有最美好回憶的地方。但景物依舊，金英浩卻完全變了一個人，他在過往朋友們眾目睽睽下，站到了鐵軌上尋短，痛苦大喊：「我想回到過去！」。\n",
            " \n",
            "故事以他的死亡開始倒敘展開，五年前、十多年前、二十年前…曾經意氣風發的少年歷經風霜，命運的峰迴路轉讓他成了自己不想成為的人。\n",
            "-------------------------------------------------------------=====================================================================================------\n",
            "\n",
            "Name 人聲\n",
            "Genre:\n",
            "劇情\n",
            "introl 一個焦慮的女人等著要跟她分手的男人可以出現，取回他的行李，心裡有著一絲絲盼望，也許可以有轉圜的餘地。但是三天的枯等讓她心灰意冷，甚至將男人的衣物放在床上用買來的斧頭砍破洩恨。男人養的狗跟女人一樣焦慮，牠對他的依戀不亞於女人！但是他們都等不到回心轉意的男人\n",
            " \n",
            "在萬念俱灰的情緒下，她吞下了13顆藥丸，然後沉沉睡去，就在這個時候男人來了電話…\n",
            " \n",
            "【關於電影】\n",
            " \n",
            "時間流逝與情感拖磨 阿莫多瓦大師賦予《人聲》最高演繹境界\n",
            "阿莫多瓦X蒂妲絲雲頓兩大時尚先驅  營造本世紀最夢幻視覺饗宴\n",
            " \n",
            "《人聲》故事敘述一個女星看著時間一分一秒的過去，但是她的情人即將離他而去，她看著情人應該要來拿走的行李箱，卻一直杵在那邊，令她焦慮不已，她身邊還有一隻煩躁靜不下來的狗。電影一開始她全身穿著靛藍的套裝走進五金大賣場，挑選了一把鋒利的斧頭，放進她名牌包包中。這樣的場面果然非常的阿莫多瓦！\n",
            " \n",
            "每一次的作品總是給人驚喜連連的阿莫多瓦，在全世界都擁有許多影癡，在新冠疫情期間阿莫多瓦也沒有停下腳步，全新作品短片《人聲》是他再一次突破自己極限的作品。這次阿莫多瓦找上從未合作過的女星蒂妲絲雲頓擔綱女主角，同時這也是他首部英語發音電影。素有「時尚仙人」美譽的蒂妲絲雲頓，與用色大膽前衛的阿莫多瓦一起合作，根本就是一場夢幻的時尚視覺饗宴！\n",
            " \n",
            "導演第三度改編尚考克多劇本《人聲》 蒂妲氣場強大獨撐30分鐘\n",
            " \n",
            "《人聲》不僅是阿莫多瓦第一部英語發音的電影，同時也是他第三度改編法國神級劇作家尚考克多的劇本，前兩部也都成為經典之作：《慾望法則》與《瀕臨崩潰邊緣的女人》。《人聲》也讓阿莫多瓦琢磨許久，他說：「因為劇本真的很短，所以我一直在跟主角演戲，想要創造出女主角接到男人電話前兩天的心境和情緒。所以這部電影跟《瀕臨崩潰邊緣的女人》很不一樣，尚考克多的劇本在這三年裡一直在我腦中盤旋，我希望能夠寫出一個更現代化的腳本。」\n",
            " \n",
            "阿莫多瓦一直以來就想要跟蒂妲絲雲頓一起拍片，他說：「這是我夢寐以求的事情，《人聲》這部電影充滿了各種實驗性質，我雖然英文不是太好，但是我跟蒂妲就是能彼此了解，用我們的電影語言。」蒂妲絲雲頓從頭到尾展現出一個為情所困、焦慮、挫折、憤怒，終至絕望，她演出了阿莫多瓦希望能夠擁有自己掌控權的女人，完全淋漓表現了劇中角色那種高貴、冷調卻又充滿炙熱情感的角色。\n",
            "-------------------------------------------------------------=====================================================================================------\n",
            "\n",
            "Name 雙面薇若妮卡 經典數位修復\n",
            "Genre:\n",
            "劇情\n",
            "introl ★ 1991坎城影展最佳女主角、國際影評人費比西獎、人道主義精神獎\n",
            "★ 1992 金球獎最佳外語片提名\n",
            "★ 1992 法國凱薩獎最佳女主角提名\n",
            "★ 1992 美國國家影評人協會最佳外語片\n",
            " \n",
            "經典大師 奇士勞斯基 逝世二十週年 數位修復‧經典重現大銀幕\n",
            "波蘭與法國，兩個同名薇若妮卡的女子互不相識，卻都擁有音樂天賦，年齡相仿、長相相似，甚至都有致命的心臟宿疾。神秘難解的命運將她們彼此緊密維繫，彷彿同樣的靈魂一生為二，互相交換死生蛻變。她們不僅是幾乎一模一樣的人，還是冥冥中能夠互相感應的人。波蘭的薇若妮卡曾對自己的父親說：「我有種奇特的感覺，我在這世上並不是孤單一人的。」；法國的薇若妮卡也說著類似的話：「我覺得自己好像同時活在兩個地方，總該知道自己該做什麼。」所有的一切似乎都暗示著，這兩條生命彼此平行依存，卻未曾真正相遇。 \n",
            " \n",
            "《雙面薇若妮卡》是奇士勞斯基最令人著迷、大開國際知名度的經典作品，透過繁複細緻的光影多重隱喻國族、生命、認同、愛與人性，引人反覆追索。伊蓮雅各以此片奪得坎城影后，分飾兩角的演技令人心碎動容。2021年為奇士勞斯八十週年冥誕，也是本片問世30周年。而影史經典《雙面薇若妮卡》也將以《雙面薇若妮卡 經典數位修復》再度登上大銀幕，讓影迷重溫當時的悸動。\n",
            "-------------------------------------------------------------=====================================================================================------\n",
            "\n",
            "Name 合法伴侶\n",
            "Genre:\n",
            "愛情\n",
            "introl ★英國倫敦的異國追愛故事！無論是男女戀，還是男男戀？結婚才是合法，敢登記才是真愛\n",
            "★台北電影節影后張榕容與香港帥哥李治廷合作愛情喜劇，誤會中遇到真愛？倫敦結合古典與現代的美景全都錄，浪漫滿分\n",
            " \n",
            "在倫敦追求夢想的音樂才子古大白（李治廷 飾），因為一場意外陷入簽證危機，將被遣送回國。情急之下，已拿到綠卡的好友金天（白客 飾）靈機一動，出手相助，竟是將兩人從真兄弟變身成了假伴侶，兩人更惡補情侶CP感，企圖在簽證官華生（魯伯特格雷夫斯 飾）面前蒙混過關。\n",
            " \n",
            "但事情並沒有想像中順利：新搬來的鄰居赫敏（張榕容 飾）性格搞怪又可愛，讓古大白非常心動，但為了簽證狀況，只能和她當閨蜜，再加上火眼金睛的簽證官窮追不捨、更有大白父母突然來探訪，各種突發狀況讓小謊言滾成了大雪球，在簽證與真相之間，兄弟倆手忙腳亂，又將如何選擇呢？\n",
            "-------------------------------------------------------------=====================================================================================------\n",
            "\n",
            "Name 甲子園：夢想競技場\n",
            "Genre:\n",
            "紀錄片\n",
            "introl 汗水淚水噴發的青春，甲子園熱度節節高升！\n",
            " \n",
            "2018年，適逢夏季甲子園100週年。日本全國近4,000參賽隊伍，即將透過單敗淘汰制，選出56校角逐高中棒球最高榮譽。水谷哲也，橫濱隼人高中棒球總教練，目標全國制霸，始終將球隊擺在家庭之上。他從未見過15歲的兒子打球，也不願訓練他。水谷將兒子送到遠方的花卷東高中，在他的弟子佐佐木洋隊中磨練。佐佐木可謂青出於藍，大聯盟球星大谷翔平、菊池雄星都是他訓練出的高徒。大賽在即，同為甲子園常客的兩校隊伍，將會由哪隊創造奇蹟？\n",
            " \n",
            "「98%的高中球員在這裡被打敗，然後變得更強。」高懸於阪神電車甲子園站的標語，清楚揭示一切。甲子園作為文化縮影，不只是熾烈青春的明證，更是塑造日本未來最堅實的夢想聖地！\n",
            "-------------------------------------------------------------=====================================================================================------\n",
            "\n",
            "Name 青春：第50屆日本全國高中棒球錦標賽\n",
            "Genre:\n",
            "紀錄片\n",
            "introl 一代名導市川崑最膾炙人口的傳奇傑作\n",
            " \n",
            "1968年盛夏，第50屆日本全國高中棒球錦標賽「夏季甲子園」正式開戰！60,000名觀眾擠爆看台觀戰，歡呼聲響徹雲霄。從2,485所學校脫穎而出48校菁英隊伍，準備爭奪獨一無二的至高榮耀。劇組縱橫經緯走遍列島，從寒冬到酷暑，追蹤野球少年的逐夢身影。片中更穿插珍貴歷史畫面，細數甲子園變遷史。走過二戰，巍巍場館除了曾因軍需拆用，甚至有明星球員遠赴沙場不再歸來。汗淚齊飆的甲子園，不僅是青春競技場，更見證永不言棄的大和精神。\n",
            " \n",
            "為了落實一代名導市川崑的野望，全片出動20多台攝影機、動員120名工作人員，讓鏡頭伏地上天，穿梭各個角落，精彩捕捉賽事精華與綻放的各色青春！\n",
            "-------------------------------------------------------------=====================================================================================------\n",
            "\n",
            "Name 自殺突擊隊：集結\n",
            "Genre:\n",
            "動作\n",
            "冒險\n",
            "introl 歡迎來到地獄—全美死亡率最高的「美夢監獄」。那裡關押著最兇惡的超級反派，他們為了逃離該處願意付出任何代價，甚至不惜加入超級神祕又黑幕重重的X特遣隊。這次九死一生的任務是什麼呢？首先結集「血腥運動」、「和平使者」、「迴旋鏢隊長」、「捕鼠人2」、「智者」、「鯊魚王」、「黑色守衛」、「標槍」，以及大家最喜歡的精神病患「哈莉奎茵」等一幫罪犯，給他們配上最精良的重裝武器，再把他們扔…請注意真的是用扔的，到與世隔絕又布滿敵軍的柯多瑪堤小島。他們徒步穿越每個角落都藏滿敵對兵力和武裝傭兵的叢林，突擊隊員在瑞克佛萊格上校一人隨行並帶領管束下，執行著搜索及摧毀的任務…\n",
            " \n",
            "阿曼達華勒的政府技工則從耳機裡提點監控，全程緊迫盯人。與往常一樣，他們只要踏錯一步就會屍骨無存（無論是死於敵方的手下、自己隊友的暗算，或是華勒的親自下令）。若真要下注賭個輸贏，明智的選擇絕對是押他們落敗，全軍覆沒。\n",
            "-------------------------------------------------------------=====================================================================================------\n",
            "\n",
            "Name 驅魔禁區\n",
            "Genre:\n",
            "科幻\n",
            "恐怖\n",
            "懸疑/驚悚\n",
            "introl ★ 《第九禁區》《極樂世界》導演全新超自然科幻懼作\n",
            "★ 科幻視效結合驅魔題材，宛如《全面啟動》結合《厲陰宅》！\n",
            "★ 有些惡行，是惡魔逼人做的……\n",
            " \n",
            "一名年輕女子意外喚醒滿懷惡意的駭人惡靈。現在，這股超自然力量將殘酷地揭露一對母女之間數十年感情裂痕的恐怖根源……。\n",
            "-------------------------------------------------------------=====================================================================================------\n",
            "\n",
            "Name 叢林奇航\n",
            "Genre:\n",
            "動作\n",
            "冒險\n",
            "奇幻\n",
            "introl 故事描述一位名叫霍頓博士（艾蜜莉布朗 飾演）發現了深藏在亞馬遜裡，有著一顆擁有治癒神力的奇幻之樹，而要取得這棵樹的神力，必須帶著一個被人類收藏的「神奇箭頭」來解開它，霍頓博士決定要深入叢林，來一探這個傳說的究竟，她找來了一個看似可靠，但其實是個只想詐騙遊客的狡猾渡輪船長—法蘭克船長（巨石強森 飾演），她雇用法蘭克載著自己與弟弟（傑克懷特霍爾 飾演）前往叢林展開這場解開神秘傳說之謎的旅程。\n",
            " \n",
            "迪士尼樂園最受歡迎的人氣遊樂設施「叢林奇航」首度改編成電影，將在2020年暑假搬上大銀幕了！這趟神秘的叢林之旅，要帶著大家進入一趟最驚險刺激的旅程，過程中將會遇上許多危險恐怖的生物，以及奇異的超自然現象，新作融合《國家寶藏》般的驚險探險劇情，加上《神鬼奇航》般的冒險旅程！\n",
            "-------------------------------------------------------------=====================================================================================------\n",
            "\n"
          ],
          "name": "stdout"
        }
      ]
    },
    {
      "cell_type": "code",
      "metadata": {
        "id": "vVpsZn45h0-t"
      },
      "source": [
        "#now lets try to get movie recursively\n",
        "#According to actor\n",
        "\n",
        "#if current URL is storted info ,we store currentURL in a dict\n",
        "#let try now"
      ],
      "execution_count": null,
      "outputs": []
    },
    {
      "cell_type": "code",
      "metadata": {
        "id": "F77quDDlyhNl",
        "outputId": "b53a6281-b1a0-49c1-eb9e-4072a45f3074",
        "colab": {
          "base_uri": "https://localhost:8080/"
        }
      },
      "source": [
        "#get detail info with \n",
        "detailURL = \"https://movies.yahoo.com.tw/movieinfo_main/%E9%BB%91%E5%AF%A1%E5%A9%A6-black-widow-10397\"\n",
        "reqDetail = requests.get(detailURL,headers=HEADER)\n",
        "detailSoup = BeautifulSoup(reqDetail.text)\n",
        "# print(detailSoup)\n",
        "detailSoup = detailSoup.find(\"div\",id=\"content_l\")\n",
        "#getting the basic \n",
        "# detailSoup.find(\"div\",class_=\"movie_intro_info_r\")\n",
        "info = detailSoup.find(\"div\",class_=\"movie_intro_info_r\")\n",
        "print(\"Name\",info.find(\"h1\").text.strip())\n",
        "genreList = info.findAll(\"div\",class_=\"level_name\")\n",
        "\n",
        "#getting movie genre\n",
        "print(\"Genre:\")\n",
        "for genre in genreList:\n",
        "  print(genre.find(\"a\",class_=\"gabtn\").text.strip())\n",
        "\n",
        "#getting movie intro\n",
        "intro = detailSoup.find(\"div\",class_=\"gray_infobox_inner\")\n",
        "introData = intro.find(\"span\",id=\"story\").text.strip()\n",
        "print(\"introl\",introData)\n",
        "\n",
        "#trailer_list alist starlist is for actor etc\n",
        "#if current Movie has actor and find it else not to do this\n",
        "if(detailSoup.findAll(\"div\",class_=\"l_box have_arbox _c\")[0].find(\"ul\",\"trailer_list alist starlist\") != None):\n",
        "    actorList = detailSoup.findAll(\"div\",class_=\"l_box have_arbox _c\")[0].find(\"ul\",\"trailer_list alist starlist\").findAll(\"li\")\n",
        "    for actor in actorList:\n",
        "      currentActor = actor.find(\"a\",class_=\"gabtn\").find(\"div\",class_=\"actor_inner\").find(\"h2\").text.strip()\n",
        "      currentActorLink =   actor.find(\"a\",class_=\"gabtn\")[\"href\"]\n",
        "      #here we got a string of actor name,chinese and english\n",
        "      #now array index 0 is chinese and 1 is english\n",
        "      currentActor = currentActor.replace(\" \",\"\").split(\"\\n\")\n",
        "      del currentActor[1]\n",
        "\n",
        "      print(currentActor,currentActorLink)\n",
        "\n",
        "      #now need to get more movie from\n"
      ],
      "execution_count": 122,
      "outputs": [
        {
          "output_type": "stream",
          "text": [
            "Name 黑寡婦\n",
            "Genre:\n",
            "動作\n",
            "冒險\n",
            "introl 漫威影業2020年的首部重頭戲，是粉絲請求多時，終於實現的《黑寡婦》個人電影，黑寡婦在漫威電影宇宙中舉足輕重，10多年來參與了7部電影。現在，娜塔莎羅曼諾夫，也就是大家所熟知的黑寡婦，終於踏上個人的旅程，讓粉絲看到她不為人知的一面。\r\n",
            " \r\n",
            "故事時間點設定在《美國隊長 3 : 英雄內戰》之後，娜塔莎因為幫助了美國隊長而踏上流亡之路，當她發現一個與過去有關的陰謀時，她必須全球追蹤，回頭面對她神祕的間諜生涯，同時逃過反派「模仿大師」的追殺。\n",
            "['凱特蕭蘭', 'CateShortland'] https://movies.yahoo.com.tw/name_main/%E5%87%B1%E7%89%B9%E8%95%AD%E8%98%AD-cate-shortland-41257\n",
            "['史嘉蕾喬韓森', 'ScarlettJohansson'] https://movies.yahoo.com.tw/name_main/%E5%8F%B2%E5%98%89%E8%95%BE%E5%96%AC%E9%9F%93%E6%A3%AE-scarlett-johansson-1349\n",
            "['佛蘿倫絲普伊', 'FlorencePugh'] https://movies.yahoo.com.tw/name_main/%E4%BD%9B%E8%98%BF%E5%80%AB%E7%B5%B2%E6%99%AE%E4%BC%8A-florence-pugh-45121\n",
            "['小勞勃道尼', 'RobertDowneyJr.'] https://movies.yahoo.com.tw/name_main/%E5%B0%8F%E5%8B%9E%E5%8B%83%E9%81%93%E5%B0%BC-robert-downey-jr-1075\n",
            "['瑞秋懷茲', 'RachelWeisz'] https://movies.yahoo.com.tw/name_main/%E7%91%9E%E7%A7%8B%E6%87%B7%E8%8C%B2-rachel-weisz-2295\n"
          ],
          "name": "stdout"
        }
      ]
    },
    {
      "cell_type": "code",
      "metadata": {
        "id": "Ixsz7z_k4NVf"
      },
      "source": [
        "\\"
      ],
      "execution_count": null,
      "outputs": []
    }
  ]
}